{
 "cells": [
  {
   "cell_type": "markdown",
   "metadata": {
    "_cell_guid": "b1076dfc-b9ad-4769-8c92-a6c4dae69d19",
    "_uuid": "8f2839f25d086af736a60e9eeb907d3b93b6e0e5"
   },
   "source": [
    "# Install packages\n",
    "In this example, I use chainer chemistry which offer an implementation of SchNet.\n",
    "This library can be install by PIP.\n",
    "* Chainer Chemistry: A Library for Deep Learning in Biology and Chemistry<br>https://github.com/pfnet-research/chainer-chemistry"
   ]
  },
  {
   "cell_type": "code",
   "execution_count": 2,
   "metadata": {
    "_cell_guid": "79c7e3d0-c299-4dcb-8224-4455121ee9b0",
    "_kg_hide-output": true,
    "_uuid": "d629ff2d2480ee46fbb7e2d37f6b5fab8052498a"
   },
   "outputs": [
    {
     "name": "stdout",
     "output_type": "stream",
     "text": [
      "Found existing installation: tensorflow 2.5.0\n",
      "Uninstalling tensorflow-2.5.0:\n",
      "  Successfully uninstalled tensorflow-2.5.0\n"
     ]
    },
    {
     "name": "stderr",
     "output_type": "stream",
     "text": [
      "WARNING: Ignoring invalid distribution -umpy (d:\\prolificacy\\anaconda3\\lib\\site-packages)\n",
      "WARNING: Ignoring invalid distribution -ip (d:\\prolificacy\\anaconda3\\lib\\site-packages)\n",
      "WARNING: Ignoring invalid distribution -andas (d:\\prolificacy\\anaconda3\\lib\\site-packages)\n",
      "WARNING: Ignoring invalid distribution -umpy (d:\\prolificacy\\anaconda3\\lib\\site-packages)\n",
      "WARNING: Ignoring invalid distribution -ip (d:\\prolificacy\\anaconda3\\lib\\site-packages)\n",
      "WARNING: Ignoring invalid distribution -andas (d:\\prolificacy\\anaconda3\\lib\\site-packages)\n"
     ]
    },
    {
     "name": "stdout",
     "output_type": "stream",
     "text": [
      "Requirement already satisfied: chainer-chemistry==0.5.0 in d:\\prolificacy\\anaconda3\\lib\\site-packages (0.5.0)\n",
      "Requirement already satisfied: matplotlib in d:\\prolificacy\\anaconda3\\lib\\site-packages (from chainer-chemistry==0.5.0) (3.5.2)\n",
      "Requirement already satisfied: chainer>=3.0 in d:\\prolificacy\\anaconda3\\lib\\site-packages (from chainer-chemistry==0.5.0) (7.8.1)\n",
      "Requirement already satisfied: joblib in d:\\prolificacy\\anaconda3\\lib\\site-packages (from chainer-chemistry==0.5.0) (1.1.0)\n",
      "Requirement already satisfied: pandas in d:\\prolificacy\\anaconda3\\lib\\site-packages (from chainer-chemistry==0.5.0) (1.3.5)\n",
      "Requirement already satisfied: scipy in d:\\prolificacy\\anaconda3\\lib\\site-packages (from chainer-chemistry==0.5.0) (1.7.3)\n",
      "Requirement already satisfied: scikit-learn in d:\\prolificacy\\anaconda3\\lib\\site-packages (from chainer-chemistry==0.5.0) (1.0.2)\n",
      "Requirement already satisfied: tqdm in d:\\prolificacy\\anaconda3\\lib\\site-packages (from chainer-chemistry==0.5.0) (4.62.3)\n",
      "Requirement already satisfied: setuptools in d:\\prolificacy\\anaconda3\\lib\\site-packages (from chainer>=3.0->chainer-chemistry==0.5.0) (62.3.1)\n",
      "Requirement already satisfied: numpy>=1.9.0 in d:\\prolificacy\\anaconda3\\lib\\site-packages (from chainer>=3.0->chainer-chemistry==0.5.0) (1.21.5)\n",
      "Requirement already satisfied: protobuf>=3.0.0 in d:\\prolificacy\\anaconda3\\lib\\site-packages (from chainer>=3.0->chainer-chemistry==0.5.0) (3.17.1)\n",
      "Requirement already satisfied: six>=1.9.0 in d:\\prolificacy\\anaconda3\\lib\\site-packages (from chainer>=3.0->chainer-chemistry==0.5.0) (1.16.0)\n",
      "Requirement already satisfied: typing-extensions in d:\\prolificacy\\anaconda3\\lib\\site-packages (from chainer>=3.0->chainer-chemistry==0.5.0) (4.2.0)\n",
      "Requirement already satisfied: filelock in d:\\prolificacy\\anaconda3\\lib\\site-packages (from chainer>=3.0->chainer-chemistry==0.5.0) (3.7.0)\n",
      "Requirement already satisfied: python-dateutil>=2.7 in d:\\prolificacy\\anaconda3\\lib\\site-packages (from matplotlib->chainer-chemistry==0.5.0) (2.8.2)\n",
      "Requirement already satisfied: cycler>=0.10 in d:\\prolificacy\\anaconda3\\lib\\site-packages (from matplotlib->chainer-chemistry==0.5.0) (0.11.0)\n",
      "Requirement already satisfied: packaging>=20.0 in d:\\prolificacy\\anaconda3\\lib\\site-packages (from matplotlib->chainer-chemistry==0.5.0) (21.3)\n",
      "Requirement already satisfied: pyparsing>=2.2.1 in d:\\prolificacy\\anaconda3\\lib\\site-packages (from matplotlib->chainer-chemistry==0.5.0) (3.0.9)\n",
      "Requirement already satisfied: fonttools>=4.22.0 in d:\\prolificacy\\anaconda3\\lib\\site-packages (from matplotlib->chainer-chemistry==0.5.0) (4.33.3)\n",
      "Requirement already satisfied: kiwisolver>=1.0.1 in d:\\prolificacy\\anaconda3\\lib\\site-packages (from matplotlib->chainer-chemistry==0.5.0) (1.4.2)\n",
      "Requirement already satisfied: pillow>=6.2.0 in d:\\prolificacy\\anaconda3\\lib\\site-packages (from matplotlib->chainer-chemistry==0.5.0) (9.0.1)\n",
      "Requirement already satisfied: pytz>=2017.3 in d:\\prolificacy\\anaconda3\\lib\\site-packages (from pandas->chainer-chemistry==0.5.0) (2022.1)\n",
      "Requirement already satisfied: threadpoolctl>=2.0.0 in d:\\prolificacy\\anaconda3\\lib\\site-packages (from scikit-learn->chainer-chemistry==0.5.0) (3.1.0)\n",
      "Requirement already satisfied: colorama in d:\\prolificacy\\anaconda3\\lib\\site-packages (from tqdm->chainer-chemistry==0.5.0) (0.4.4)\n"
     ]
    },
    {
     "name": "stderr",
     "output_type": "stream",
     "text": [
      "WARNING: Ignoring invalid distribution -umpy (d:\\prolificacy\\anaconda3\\lib\\site-packages)\n",
      "WARNING: Ignoring invalid distribution -ip (d:\\prolificacy\\anaconda3\\lib\\site-packages)\n",
      "WARNING: Ignoring invalid distribution -andas (d:\\prolificacy\\anaconda3\\lib\\site-packages)\n",
      "WARNING: Ignoring invalid distribution -umpy (d:\\prolificacy\\anaconda3\\lib\\site-packages)\n",
      "WARNING: Ignoring invalid distribution -ip (d:\\prolificacy\\anaconda3\\lib\\site-packages)\n",
      "WARNING: Ignoring invalid distribution -andas (d:\\prolificacy\\anaconda3\\lib\\site-packages)\n",
      "WARNING: Ignoring invalid distribution -umpy (d:\\prolificacy\\anaconda3\\lib\\site-packages)\n",
      "WARNING: Ignoring invalid distribution -ip (d:\\prolificacy\\anaconda3\\lib\\site-packages)\n",
      "WARNING: Ignoring invalid distribution -andas (d:\\prolificacy\\anaconda3\\lib\\site-packages)\n",
      "WARNING: Ignoring invalid distribution -umpy (d:\\prolificacy\\anaconda3\\lib\\site-packages)\n",
      "WARNING: Ignoring invalid distribution -ip (d:\\prolificacy\\anaconda3\\lib\\site-packages)\n",
      "WARNING: Ignoring invalid distribution -andas (d:\\prolificacy\\anaconda3\\lib\\site-packages)\n",
      "WARNING: Ignoring invalid distribution -umpy (d:\\prolificacy\\anaconda3\\lib\\site-packages)\n",
      "WARNING: Ignoring invalid distribution -ip (d:\\prolificacy\\anaconda3\\lib\\site-packages)\n",
      "WARNING: Ignoring invalid distribution -andas (d:\\prolificacy\\anaconda3\\lib\\site-packages)\n",
      "WARNING: Ignoring invalid distribution -umpy (d:\\prolificacy\\anaconda3\\lib\\site-packages)\n",
      "WARNING: Ignoring invalid distribution -ip (d:\\prolificacy\\anaconda3\\lib\\site-packages)\n",
      "WARNING: Ignoring invalid distribution -andas (d:\\prolificacy\\anaconda3\\lib\\site-packages)\n"
     ]
    }
   ],
   "source": [
    "!pip uninstall -y tensorflow\n",
    "!pip install chainer-chemistry==0.5.0"
   ]
  },
  {
   "cell_type": "markdown",
   "metadata": {},
   "source": [
    "# Import packages\n",
    "Next, I import main packages. Other sub-modules are imported later."
   ]
  },
  {
   "cell_type": "code",
   "execution_count": 1,
   "metadata": {},
   "outputs": [],
   "source": [
    "import random\n",
    "import numpy as np\n",
    "import pandas as pd"
   ]
  },
  {
   "cell_type": "code",
   "execution_count": 2,
   "metadata": {},
   "outputs": [
    {
     "name": "stderr",
     "output_type": "stream",
     "text": [
      "d:\\prolificacy\\Anaconda3\\envs\\pytorch\\lib\\site-packages\\cupy\\_environment.py:399: UserWarning: \n",
      "cudnn library could not be loaded.\n",
      "\n",
      "Reason: ImportError (DLL load failed: 找不到指定的模块。)\n",
      "\n",
      "You can install the library by:\n",
      "\n",
      "  $ python -m cupyx.tools.install_library --library cudnn --cuda 11.1\n",
      "\n",
      "  warnings.warn(msg)\n",
      "d:\\prolificacy\\Anaconda3\\envs\\pytorch\\lib\\site-packages\\chainer\\backends\\cuda.py:155: UserWarning: cuDNN is not enabled.\n",
      "Please reinstall CuPy after you install cudnn\n",
      "(see https://docs-cupy.chainer.org/en/stable/install.html#install-cudnn).\n",
      "  'cuDNN is not enabled.\\n'\n",
      "d:\\prolificacy\\Anaconda3\\envs\\pytorch\\lib\\site-packages\\chainer\\_environment_check.py:75: UserWarning: \n",
      "--------------------------------------------------------------------------------\n",
      "CuPy (cupy-cuda111) version 10.5.0 may not be compatible with this version of Chainer.\n",
      "Please consider installing the supported version by running:\n",
      "  $ pip install 'cupy-cuda111>=7.7.0,<8.0.0'\n",
      "\n",
      "See the following page for more details:\n",
      "  https://docs.cupy.dev/en/latest/install.html\n",
      "--------------------------------------------------------------------------------\n",
      "\n",
      "  requirement=requirement, help=help))\n",
      "d:\\prolificacy\\Anaconda3\\envs\\pytorch\\lib\\site-packages\\chainer_chemistry\\__init__.py:12: UserWarning: A module chainer_chemistry.datasets was not imported, probably because RDKit is not installed. To install RDKit, please follow instruction in https://github.com/pfnet-research/chainer-chemistry#installation.\n",
      "  UserWarning)\n"
     ]
    }
   ],
   "source": [
    "import chainer\n",
    "import chainer_chemistry\n",
    "from IPython.display import display"
   ]
  },
  {
   "cell_type": "markdown",
   "metadata": {},
   "source": [
    "# Load dataset\n",
    "In this example, 90% of training data is used actual training data, and the other 10% is used for validation.\n",
    "Each dataset is grouped by molecule_name name for following procedures."
   ]
  },
  {
   "cell_type": "markdown",
   "metadata": {},
   "source": [
    "### Distances!"
   ]
  },
  {
   "cell_type": "code",
   "execution_count": 3,
   "metadata": {},
   "outputs": [],
   "source": [
    "def build_type_dataframes(base, structures, coupling_type):\n",
    "    base = base[base['type'] == coupling_type].drop('type', axis=1).copy()\n",
    "    base = base.reset_index()\n",
    "    base['id'] = base['id'].astype('int32')\n",
    "    structures = structures[structures['molecule_index'].isin(base['molecule_index'])]\n",
    "    return base, structures\n"
   ]
  },
  {
   "cell_type": "code",
   "execution_count": 4,
   "metadata": {
    "_kg_hide-output": true
   },
   "outputs": [
    {
     "name": "stderr",
     "output_type": "stream",
     "text": [
      "d:\\prolificacy\\Anaconda3\\envs\\pytorch\\lib\\site-packages\\pandas\\util\\_decorators.py:311: SettingWithCopyWarning: \n",
      "A value is trying to be set on a copy of a slice from a DataFrame\n",
      "\n",
      "See the caveats in the documentation: https://pandas.pydata.org/pandas-docs/stable/user_guide/indexing.html#returning-a-view-versus-a-copy\n",
      "  return func(*args, **kwargs)\n"
     ]
    }
   ],
   "source": [
    "def load_dataset():\n",
    "\n",
    "    train = pd.merge(pd.read_csv('../champs-scalar-coupling/train.csv'),\n",
    "                     pd.read_csv('../champs-scalar-coupling/scalar_coupling_contributions.csv'))\n",
    "\n",
    "    test = pd.read_csv('../champs-scalar-coupling/test.csv')\n",
    "\n",
    "    counts = train['molecule_name'].value_counts()\n",
    "    moles = list(counts.index)\n",
    "\n",
    "    random.shuffle(moles)\n",
    "\n",
    "    num_train = int(len(moles) * 0.9)\n",
    "    train_moles = sorted(moles[:num_train])\n",
    "    valid_moles = sorted(moles[num_train:])\n",
    "    test_moles = sorted(list(set(test['molecule_name'])))\n",
    "\n",
    "    valid = train.query('molecule_name not in @train_moles')\n",
    "    train = train.query('molecule_name in @train_moles')\n",
    "\n",
    "    train.sort_values('molecule_name', inplace=True)\n",
    "    valid.sort_values('molecule_name', inplace=True)\n",
    "    test.sort_values('molecule_name', inplace=True)\n",
    "\n",
    "    return train, valid, test, train_moles, valid_moles, test_moles\n",
    "\n",
    "train, valid, test, train_moles, valid_moles, test_moles = load_dataset()\n",
    "\n",
    "train_gp = train.groupby('molecule_name')\n",
    "valid_gp = valid.groupby('molecule_name')\n",
    "test_gp = test.groupby('molecule_name')\n",
    "\n",
    "structures = pd.read_csv('../champs-scalar-coupling/structures.csv')\n",
    "structures_groups = structures.groupby('molecule_name')"
   ]
  },
  {
   "cell_type": "code",
   "execution_count": 5,
   "metadata": {
    "_kg_hide-output": true
   },
   "outputs": [
    {
     "data": {
      "text/plain": [
       "{'dsgdb9nsd_000001': [0, 1, 2, 3, 4, 5, 6, 7, 8, 9], 'dsgdb9nsd_000002': [10, 11, 12, 13, 14, 15], 'dsgdb9nsd_000003': [16], 'dsgdb9nsd_000005': [17, 18], 'dsgdb9nsd_000006': [19, 20], 'dsgdb9nsd_000007': [37, 38, 39, 40, 41, 43, 36, 44, 45, 46, 47, 42, 35, 32, 33, 34, 21, 22, 23, 24, 26, 25, 28, 29, 30, 31, 27], 'dsgdb9nsd_000008': [54, 56, 57, 55, 53, 49, 51, 50, 48, 52], 'dsgdb9nsd_000009': [67, 72, 71, 70, 69, 68, 66, 64, 65, 63, 62, 61, 60, 59, 58], 'dsgdb9nsd_000010': [84, 83, 82, 81, 80, 79, 78, 77, 75, 74, 73, 76], 'dsgdb9nsd_000011': [95, 94, 97, 98, 93, 96, 92, 91, 90, 89, 88, 87, 86, 85], 'dsgdb9nsd_000012': [107, 106, 105, 103, 104, 101, 100, 99, 102], 'dsgdb9nsd_000013': [139, 132, 133, 134, 135, 136, 137, 138, 140, 131, 142, 143, 144, 145, 146, 147, 148, 149, 150, 141, 130, 127, 128, 129, 108, 109, 111, 112, 113, 114, 115, 116, 117, 110, 119, 120, 121, 122, 123, 124, 125, 126, 118], 'dsgdb9nsd_000016': [170, 171, 172, 173, 174, 183, 175, 179, 177, 178, 180, 181, 182, 169, 176, 168, 159, 166, 151, 152, 153, 154, 167, 156, 157, 155, 160, 161, 162, 163, 164, 165, 158], 'dsgdb9nsd_000017': [197, 196, 195, 194, 193, 191, 192, 189, 188, 187, 186, 185, 184, 190], 'dsgdb9nsd_000020': [235, 233, 232, 231, 230, 229, 234, 227, 226, 225, 224, 223, 222, 228], 'dsgdb9nsd_000022': [257, 258, 259, 260, 261, 272, 262, 263, 266, 265, 267, 268, 269, 270, 271, 256, 264, 255, 246, 253, 236, 237, 238, 239, 240, 254, 242, 243, 241, 245, 247, 248, 249, 250, 251, 252, 244], 'dsgdb9nsd_000024': [273, 274, 275], 'dsgdb9nsd_000026': [280, 281, 279, 277, 278, 276], 'dsgdb9nsd_000027': [282, 283, 284], 'dsgdb9nsd_000028': [285, 286, 287, 288, 289], 'dsgdb9nsd_000029': [305, 306, 307, 308, 309, 304, 311, 312, 313, 303, 310, 302, 299, 300, 290, 291, 292, 301, 294, 293, 296, 297, 298, 295], 'dsgdb9nsd_000030': [335, 331, 332, 333, 334, 336, 338, 339, 340, 341, 342, 343, 330, 337, 329, 318, 327, 314, 328, 316, 317, 319, 320, 315, 326, 322, 323, 324, 325, 321], 'dsgdb9nsd_000031': [360, 361, 362, 363, 364, 370, 366, 367, 368, 369, 359, 365, 358, 347, 356, 357, 345, 346, 348, 349, 344, 351, 352, 353, 354, 355, 350], 'dsgdb9nsd_000032': [382, 390, 389, 388, 387, 386, 385, 384, 383, 381, 377, 379, 378, 376, 375, 374, 373, 372, 371, 380], 'dsgdb9nsd_000033': [400, 404, 403, 402, 401, 398, 399, 396, 395, 394, 393, 392, 391, 397], 'dsgdb9nsd_000036': [418, 419, 420, 421, 425, 423, 424, 417, 426, 422, 416, 405, 414, 413, 412, 411, 410, 409, 408, 407, 406, 415], 'dsgdb9nsd_000037': [437, 436, 435, 434, 433, 430, 431, 429, 428, 427, 432], 'dsgdb9nsd_000038': [445, 450, 449, 447, 446, 444, 448, 442, 441, 440, 439, 438, 443], 'dsgdb9nsd_000039': [492, 508, 491, 490, 489, 486, 487, 485, 484, 483, 482, 488, 493, 496, 495, 497, 498, 499, 500, 501, 502, 503, 504, 505, 506, 507, 481, 494, 480, 467, 478, 451, 452, 453, 454, 455, 456, 457, 458, 479, 460, 461, 462, 463, 459, 465, 464, 476, 475, 474, 473, 477, 471, 470, 469, 468, 466, 472], 'dsgdb9nsd_000043': [544, 536, 537, 538, 539, 540, 541, 542, 543, 545, 535, 547, 548, 549, 550, 551, 552, 553, 554, 555, 556, 546, 533, 534, 531, 509, 510, 511, 513, 514, 515, 516, 517, 518, 519, 520, 512, 522, 521, 532, 529, 528, 530, 526, 525, 524, 523, 527], 'dsgdb9nsd_000045': [578, 584, 579, 580, 581, 582, 583, 585, 590, 587, 588, 589, 591, 592, 593, 577, 586, 576, 570, 574, 557, 558, 575, 560, 561, 562, 563, 564, 559, 566, 567, 568, 569, 571, 572, 573, 565], 'dsgdb9nsd_000046': [611, 612, 613, 614, 615, 616, 620, 618, 619, 621, 622, 610, 617, 609, 600, 607, 608, 595, 596, 597, 598, 599, 594, 601, 602, 603, 604, 605, 606], 'dsgdb9nsd_000048': [639, 640, 641, 642, 643, 644, 647, 646, 651, 648, 649, 650, 645, 637, 638, 635, 636, 623, 624, 626, 627, 628, 625, 630, 631, 632, 633, 634, 629], 'dsgdb9nsd_000049': [675, 670, 671, 672, 673, 674, 676, 683, 678, 679, 680, 681, 682, 669, 677, 668, 656, 666, 652, 653, 654, 655, 657, 658, 667, 660, 661, 662, 663, 664, 665, 659], 'dsgdb9nsd_000050': [701, 702, 703, 704, 705, 706, 709, 708, 710, 711, 712, 713, 707, 699, 700, 697, 684, 698, 686, 687, 688, 689, 685, 691, 690, 695, 696, 693, 692, 694], 'dsgdb9nsd_000051': [726, 736, 735, 733, 732, 731, 730, 729, 728, 727, 734, 724, 723, 725, 715, 716, 717, 714, 719, 720, 721, 722, 718], 'dsgdb9nsd_000052': [747, 755, 754, 753, 751, 750, 749, 748, 746, 752, 744, 743, 742, 741, 740, 739, 738, 737, 745], 'dsgdb9nsd_000055': [862, 861, 876, 859, 855, 857, 856, 863, 854, 858, 864, 868, 866, 867, 869, 870, 871, 872, 873, 874, 875, 853, 865, 852, 860, 850, 851, 828, 829, 830, 831, 832, 833, 834, 836, 837, 838, 835, 840, 849, 848, 839, 846, 845, 847, 843, 842, 841, 844], 'dsgdb9nsd_000056': [886, 891, 890, 889, 888, 887, 884, 885, 882, 881, 880, 879, 878, 877, 883], 'dsgdb9nsd_000057': [901, 903, 902, 900, 898, 899, 896, 895, 894, 893, 892, 897], 'dsgdb9nsd_000059': [912, 911, 910, 909, 906, 907, 905, 904, 913, 908], 'dsgdb9nsd_000062': [921, 920, 923, 922, 919, 916, 917, 915, 914, 918], 'dsgdb9nsd_000064': [946, 947, 948, 949, 951, 952, 953, 954, 956, 945, 957, 958, 959, 960, 961, 962, 963, 964, 955, 944, 950, 942, 924, 943, 926, 927, 928, 929, 930, 931, 932, 925, 934, 935, 936, 937, 938, 939, 940, 941, 933], 'dsgdb9nsd_000065': [998, 985, 986, 987, 988, 989, 990, 994, 992, 993, 995, 996, 997, 983, 991, 982, 984, 980, 981, 965, 967, 968, 969, 970, 971, 966, 973, 974, 975, 976, 977, 978, 979, 972], 'dsgdb9nsd_000066': [1014, 1015, 1016, 1017, 1018, 1023, 1020, 1021, 1024, 1013, 1019, 1012, 1022, 1010, 999, 1011, 1001, 1002, 1003, 1000, 1005, 1006, 1007, 1008, 1009, 1004], 'dsgdb9nsd_000067': [1038, 1039, 1040, 1041, 1044, 1043, 1045, 1046, 1047, 1042, 1036, 1037, 1034, 1035, 1025, 1027, 1028, 1026, 1030, 1031, 1032, 1033, 1029], 'dsgdb9nsd_000074': [1070, 1066, 1067, 1068, 1069, 1071, 1078, 1073, 1074, 1075, 1076, 1077, 1065, 1072, 1064, 1049, 1062, 1063, 1050, 1051, 1052, 1053, 1054, 1048, 1056, 1057, 1058, 1059, 1060, 1061, 1055], 'dsgdb9nsd_000075': [1093, 1094, 1095, 1096, 1097, 1101, 1099, 1100, 1102, 1103, 1104, 1098, 1092, 1090, 1089, 1091, 1079, 1080, 1082, 1083, 1081, 1085, 1086, 1087, 1088, 1084], 'dsgdb9nsd_000076': [1122, 1119, 1120, 1121, 1123, 1118, 1125, 1126, 1127, 1128, 1124, 1117, 1111, 1115, 1105, 1106, 1108, 1109, 1107, 1116, 1112, 1113, 1114, 1110], 'dsgdb9nsd_000078': [1137, 1142, 1141, 1140, 1139, 1138, 1136, 1134, 1133, 1132, 1131, 1130, 1129, 1135], 'dsgdb9nsd_000079': [1153, 1160, 1159, 1158, 1157, 1156, 1155, 1154, 1152, 1147, 1150, 1149, 1148, 1146, 1145, 1144, 1143, 1151], 'dsgdb9nsd_000082': [1181, 1182, 1183, 1184, 1185, 1186, 1187, 1191, 1189, 1190, 1192, 1193, 1194, 1195, 1180, 1188, 1179, 1174, 1177, 1178, 1162, 1163, 1164, 1165, 1166, 1167, 1168, 1161, 1170, 1171, 1172, 1173, 1175, 1176, 1169], 'dsgdb9nsd_000083': [1247, 1246, 1245, 1244, 1243, 1242, 1239, 1240, 1238, 1237, 1236, 1235, 1249, 1234, 1241, 1250, 1259, 1252, 1233, 1267, 1266, 1265, 1264, 1263, 1262, 1261, 1260, 1258, 1257, 1256, 1255, 1254, 1253, 1251, 1232, 1248, 1230, 1210, 1209, 1208, 1207, 1206, 1205, 1204, 1203, 1202, 1200, 1199, 1198, 1197, 1196, 1231, 1211, 1212, 1201, 1214, 1229, 1213, 1228, 1227, 1226, 1224, 1223, 1222, 1225, 1220, 1219, 1218, 1217, 1216, 1221, 1215], 'dsgdb9nsd_000084': [1296, 1304, 1303, 1302, 1299, 1300, 1298, 1306, 1297, 1301, 1307, 1315, 1309, 1310, 1311, 1312, 1313, 1314, 1316, 1317, 1318, 1295, 1319, 1308, 1294, 1305, 1292, 1293, 1268, 1269, 1271, 1272, 1273, 1274, 1275, 1276, 1277, 1278, 1279, 1270, 1281, 1280, 1290, 1291, 1288, 1287, 1289, 1285, 1284, 1283, 1282, 1286], 'dsgdb9nsd_000087': [1410, 1404, 1405, 1406, 1407, 1408, 1409, 1411, 1416, 1413, 1414, 1415, 1417, 1418, 1419, 1420, 1403, 1412, 1402, 1398, 1400, 1401, 1382, 1383, 1384, 1385, 1387, 1388, 1389, 1386, 1391, 1392, 1393, 1394, 1395, 1396, 1397, 1390, 1399], 'dsgdb9nsd_000088': [1450, 1449, 1448, 1444, 1446, 1445, 1451, 1447, 1452, 1461, 1454, 1455, 1456, 1457, 1458, 1459, 1460, 1443, 1453, 1442, 1434, 1440, 1421, 1422, 1423, 1425, 1426, 1427, 1428, 1429, 1430, 1424, 1432, 1433, 1441, 1435, 1436, 1437, 1438, 1439, 1431], 'dsgdb9nsd_000091': [1478, 1479, 1480, 1481, 1482, 1483, 1487, 1485, 1486, 1488, 1489, 1477, 1484, 1476, 1472, 1474, 1475, 1463, 1464, 1465, 1466, 1467, 1462, 1469, 1470, 1471, 1473, 1468], 'dsgdb9nsd_000093': [1505, 1506, 1507, 1508, 1509, 1512, 1511, 1513, 1514, 1515, 1504, 1510, 1503, 1494, 1501, 1502, 1490, 1491, 1492, 1495, 1493, 1497, 1498, 1499, 1500, 1496], 'dsgdb9nsd_000095': [1563, 1559, 1562, 1561, 1560, 1558, 1553, 1556, 1555, 1554, 1564, 1552, 1551, 1557, 1581, 1571, 1567, 1568, 1569, 1570, 1572, 1573, 1574, 1575, 1576, 1577, 1578, 1579, 1580, 1550, 1566, 1549, 1565, 1547, 1548, 1516, 1517, 1518, 1519, 1520, 1522, 1523, 1524, 1525, 1526, 1527, 1528, 1529, 1530, 1521, 1532, 1546, 1531, 1545, 1544, 1542, 1541, 1540, 1543, 1538, 1537, 1536, 1535, 1534, 1533, 1539], 'dsgdb9nsd_000096': [1604, 1611, 1605, 1606, 1607, 1608, 1609, 1610, 1612, 1620, 1614, 1615, 1616, 1617, 1618, 1621, 1622, 1603, 1613, 1602, 1619, 1600, 1601, 1582, 1583, 1584, 1585, 1587, 1588, 1589, 1590, 1586, 1592, 1593, 1594, 1595, 1596, 1597, 1598, 1591, 1599], 'dsgdb9nsd_000097': [1653, 1652, 1651, 1647, 1649, 1648, 1654, 1650, 1655, 1665, 1657, 1658, 1659, 1660, 1661, 1662, 1663, 1664, 1666, 1656, 1645, 1646, 1643, 1644, 1623, 1624, 1625, 1626, 1627, 1629, 1630, 1631, 1632, 1628, 1634, 1635, 1636, 1637, 1638, 1639, 1640, 1641, 1633, 1642], 'dsgdb9nsd_000098': [1699, 1698, 1697, 1696, 1693, 1695, 1694, 1700, 1713, 1701, 1712, 1703, 1704, 1705, 1706, 1707, 1708, 1709, 1710, 1711, 1692, 1702, 1691, 1684, 1689, 1690, 1667, 1668, 1669, 1670, 1672, 1673, 1674, 1675, 1676, 1671, 1678, 1679, 1680, 1681, 1682, 1683, 1685, 1686, 1687, 1688, 1677], 'dsgdb9nsd_000099': [1729, 1730, 1731, 1732, 1733, 1738, 1735, 1736, 1737, 1728, 1734, 1727, 1725, 1715, 1724, 1723, 1722, 1721, 1720, 1719, 1718, 1717, 1716, 1714, 1726], 'dsgdb9nsd_000101': [1769, 1768, 1767, 1762, 1765, 1764, 1763, 1770, 1766, 1771, 1778, 1773, 1774, 1775, 1776, 1777, 1779, 1780, 1781, 1782, 1772, 1761, 1749, 1759, 1760, 1739, 1740, 1741, 1742, 1743, 1745, 1746, 1747, 1748, 1744, 1750, 1751, 1752, 1753, 1754, 1755, 1756, 1757, 1758], 'dsgdb9nsd_000102': [1819, 1818, 1817, 1816, 1812, 1814, 1813, 1811, 1820, 1815, 1821, 1832, 1823, 1824, 1825, 1826, 1827, 1828, 1829, 1830, 1831, 1833, 1810, 1822, 1809, 1808, 1807, 1783, 1784, 1785, 1787, 1788, 1789, 1790, 1791, 1792, 1793, 1794, 1786, 1796, 1795, 1806, 1805, 1803, 1802, 1804, 1800, 1799, 1798, 1797, 1801], 'dsgdb9nsd_000103': [1855, 1861, 1856, 1857, 1858, 1859, 1860, 1862, 1869, 1864, 1865, 1866, 1868, 1870, 1871, 1872, 1854, 1863, 1853, 1867, 1851, 1852, 1834, 1835, 1836, 1838, 1839, 1840, 1841, 1837, 1843, 1844, 1845, 1846, 1850, 1847, 1848, 1849, 1842], 'dsgdb9nsd_000104': [1888, 1890, 1891, 1892, 1896, 1894, 1895, 1897, 1887, 1898, 1893, 1886, 1889, 1884, 1873, 1874, 1875, 1885, 1877, 1876, 1879, 1880, 1881, 1882, 1883, 1878], 'dsgdb9nsd_000105': [1937, 1936, 1935, 1934, 1928, 1932, 1931, 1930, 1929, 1938, 1933, 1953, 1946, 1941, 1942, 1943, 1944, 1945, 1947, 1948, 1949, 1950, 1951, 1952, 1927, 1940, 1926, 1939, 1924, 1899, 1900, 1901, 1902, 1903, 1904, 1905, 1906, 1907, 1908, 1909, 1910, 1925, 1912, 1911, 1923, 1922, 1920, 1919, 1921, 1917, 1916, 1915, 1914, 1913, 1918], 'dsgdb9nsd_000106': [1978, 1973, 1974, 1975, 1976, 1977, 1979, 1986, 1981, 1982, 1983, 1984, 1985, 1972, 1987, 1980, 1971, 1967, 1969, 1954, 1955, 1956, 1957, 1958, 1970, 1960, 1959, 1962, 1963, 1964, 1965, 1966, 1968, 1961], 'dsgdb9nsd_000111': [2013, 2017, 2016, 2018, 2014, 2012, 2015, 2010, 2011, 2005, 2006, 2008, 2007, 2009], 'dsgdb9nsd_000112': [2032, 2035, 2034, 2033, 2031, 2030, 2029, 2028, 2027, 2026, 2025, 2024, 2023, 2022, 2021, 2020, 2019], 'dsgdb9nsd_000113': [2043, 2041, 2040, 2042, 2038, 2037, 2036, 2039], 'dsgdb9nsd_000114': [2051, 2053, 2054, 2052, 2050, 2045, 2048, 2047, 2046, 2044, 2049], 'dsgdb9nsd_000116': [2066, 2065, 2064, 2063, 2062, 2061, 2059, 2058, 2057, 2056, 2055, 2060], 'dsgdb9nsd_000117': [2081, 2080, 2079, 2078, 2077, 2076, 2075, 2074, 2072, 2071, 2070, 2069, 2068, 2067, 2073], 'dsgdb9nsd_000118': [2095, 2096, 2097, 2098, 2103, 2101, 2102, 2094, 2104, 2100, 2093, 2099, 2091, 2092, 2082, 2084, 2085, 2086, 2083, 2087, 2088, 2089, 2090], 'dsgdb9nsd_000119': [2132, 2127, 2128, 2129, 2130, 2131, 2126, 2133, 2139, 2135, 2136, 2137, 2138, 2143, 2141, 2142, 2125, 2134, 2124, 2140, 2122, 2123, 2105, 2107, 2108, 2109, 2110, 2111, 2112, 2106, 2114, 2115, 2116, 2117, 2118, 2119, 2120, 2121, 2113], 'dsgdb9nsd_000123': [2187, 2188, 2189, 2191, 2192, 2193, 2197, 2195, 2196, 2198, 2199, 2200, 2186, 2194, 2185, 2190, 2183, 2184, 2169, 2170, 2172, 2173, 2174, 2175, 2171, 2177, 2178, 2179, 2180, 2181, 2182, 2176], 'dsgdb9nsd_000124': [2214, 2215, 2216, 2219, 2218, 2220, 2221, 2213, 2217, 2212, 2207, 2210, 2209, 2208, 2206, 2205, 2204, 2203, 2202, 2201, 2211], 'dsgdb9nsd_000125': [2233, 2234, 2235, 2232, 2237, 2238, 2239, 2236, 2231, 2230, 2229, 2228, 2227, 2226, 2225, 2224, 2223, 2222], 'dsgdb9nsd_000128': [2299, 2298, 2297, 2296, 2291, 2293, 2292, 2300, 2295, 2301, 2305, 2303, 2304, 2290, 2306, 2307, 2308, 2309, 2310, 2311, 2302, 2289, 2294, 2287, 2267, 2268, 2288, 2270, 2271, 2272, 2273, 2274, 2275, 2276, 2269, 2278, 2277, 2286, 2284, 2283, 2285, 2281, 2280, 2279, 2282], 'dsgdb9nsd_000129': [2333, 2339, 2334, 2335, 2336, 2337, 2338, 2340, 2345, 2342, 2343, 2344, 2346, 2347, 2348, 2332, 2341, 2331, 2320, 2329, 2330, 2312, 2313, 2314, 2316, 2317, 2318, 2319, 2315, 2321, 2322, 2323, 2324, 2325, 2326, 2327, 2328], 'dsgdb9nsd_000130': [2363, 2364, 2365, 2366, 2370, 2368, 2369, 2372, 2371, 2362, 2367, 2361, 2356, 2359, 2360, 2350, 2351, 2352, 2349, 2354, 2355, 2357, 2358, 2353], 'dsgdb9nsd_000131': [2384, 2392, 2391, 2390, 2388, 2387, 2386, 2385, 2383, 2389, 2381, 2380, 2379, 2378, 2377, 2376, 2382, 2375, 2374, 2373], 'dsgdb9nsd_000132': [2408, 2409, 2410, 2411, 2412, 2417, 2414, 2415, 2416, 2407, 2418, 2413, 2406, 2419, 2404, 2405, 2393, 2394, 2396, 2397, 2395, 2399, 2400, 2401, 2402, 2403, 2398], 'dsgdb9nsd_000133': [2467, 2472, 2471, 2470, 2469, 2468, 2466, 2492, 2464, 2463, 2462, 2461, 2473, 2460, 2459, 2465, 2474, 2480, 2476, 2458, 2491, 2490, 2489, 2488, 2487, 2486, 2485, 2484, 2483, 2482, 2481, 2479, 2478, 2477, 2475, 2457, 2451, 2455, 2434, 2433, 2432, 2431, 2430, 2429, 2428, 2427, 2426, 2425, 2424, 2456, 2422, 2421, 2420, 2435, 2436, 2423, 2438, 2437, 2454, 2452, 2450, 2449, 2448, 2447, 2453, 2445, 2444, 2443, 2442, 2441, 2440, 2446, 2439], 'dsgdb9nsd_000134': [2532, 2531, 2530, 2529, 2528, 2525, 2526, 2524, 2523, 2533, 2527, 2534, 2543, 2536, 2537, 2538, 2539, 2540, 2541, 2542, 2544, 2545, 2546, 2547, 2522, 2535, 2521, 2504, 2519, 2493, 2494, 2496, 2497, 2498, 2499, 2500, 2501, 2502, 2503, 2520, 2505, 2495, 2507, 2506, 2518, 2516, 2515, 2514, 2517, 2512, 2511, 2510, 2509, 2508, 2513], 'dsgdb9nsd_000135': [2574, 2582, 2575, 2576, 2577, 2578, 2579, 2580, 2581, 2583, 2590, 2585, 2586, 2587, 2588, 2589, 2591, 2592, 2593, 2594, 2573, 2584, 2572, 2568, 2570, 2548, 2571, 2550, 2551, 2552, 2553, 2554, 2555, 2556, 2557, 2558, 2549, 2560, 2559, 2567, 2566, 2565, 2569, 2563, 2562, 2561, 2564], 'dsgdb9nsd_000136': [2619, 2626, 2620, 2621, 2622, 2623, 2624, 2625, 2627, 2632, 2629, 2630, 2631, 2633, 2634, 2638, 2636, 2637, 2618, 2628, 2617, 2635, 2615, 2616, 2595, 2596, 2597, 2599, 2600, 2601, 2602, 2603, 2604, 2598, 2606, 2607, 2608, 2609, 2610, 2611, 2612, 2613, 2614, 2605], 'dsgdb9nsd_000137': [2656, 2657, 2658, 2659, 2660, 2661, 2666, 2663, 2664, 2665, 2667, 2655, 2662, 2654, 2651, 2652, 2653, 2639, 2640, 2641, 2643, 2644, 2642, 2646, 2647, 2648, 2649, 2650, 2645], 'dsgdb9nsd_000138': [2694, 2689, 2704, 2690, 2691, 2692, 2693, 2695, 2702, 2697, 2698, 2699, 2700, 2701, 2703, 2688, 2696, 2687, 2683, 2685, 2686, 2668, 2669, 2670, 2671, 2673, 2674, 2675, 2672, 2677, 2678, 2679, 2680, 2681, 2682, 2684, 2676], 'dsgdb9nsd_000139': [2729, 2724, 2725, 2726, 2727, 2728, 2730, 2738, 2732, 2733, 2734, 2735, 2736, 2737, 2723, 2731, 2722, 2718, 2720, 2705, 2721, 2707, 2708, 2709, 2710, 2711, 2706, 2713, 2714, 2715, 2716, 2717, 2719, 2712], 'dsgdb9nsd_000140': [2754, 2755, 2756, 2757, 2758, 2761, 2760, 2762, 2764, 2753, 2759, 2752, 2763, 2750, 2739, 2751, 2740, 2742, 2743, 2741, 2745, 2746, 2747, 2748, 2749, 2744], 'dsgdb9nsd_000141': [2774, 2779, 2778, 2777, 2776, 2775, 2773, 2780, 2771, 2765, 2766, 2767, 2772, 2769, 2770, 2768], 'dsgdb9nsd_000143': [2803, 2802, 2793, 2800, 2799, 2798, 2797, 2796, 2795, 2794, 2801, 2791, 2790, 2781, 2792, 2783, 2784, 2782, 2786, 2787, 2788, 2789, 2785], 'dsgdb9nsd_000144': [2811, 2816, 2815, 2814, 2813, 2810, 2812, 2808, 2807, 2806, 2805, 2804, 2809], 'dsgdb9nsd_000148': [2832, 2833, 2834, 2835, 2836, 2839, 2838, 2831, 2840, 2842, 2837, 2830, 2841, 2828, 2829, 2817, 2818, 2819, 2821, 2820, 2823, 2824, 2825, 2826, 2827, 2822], 'dsgdb9nsd_000149': [2885, 2888, 2887, 2886, 2884, 2877, 2881, 2880, 2879, 2878, 2889, 2876, 2882, 2890, 2896, 2892, 2893, 2894, 2895, 2897, 2898, 2899, 2900, 2901, 2902, 2903, 2904, 2875, 2891, 2874, 2883, 2872, 2873, 2843, 2844, 2845, 2846, 2847, 2849, 2850, 2851, 2852, 2853, 2854, 2855, 2856, 2857, 2848, 2859, 2858, 2871, 2870, 2869, 2867, 2866, 2868, 2864, 2863, 2862, 2861, 2860, 2865], 'dsgdb9nsd_000150': [2929, 2928, 2935, 2930, 2931, 2932, 2933, 2934, 2936, 2943, 2938, 2939, 2940, 2941, 2942, 2945, 2927, 2946, 2937, 2926, 2944, 2924, 2925, 2905, 2906, 2907, 2908, 2910, 2911, 2912, 2913, 2909, 2915, 2916, 2917, 2918, 2919, 2920, 2921, 2922, 2914, 2923], 'dsgdb9nsd_000151': [2982, 2981, 2980, 2979, 2975, 2977, 2976, 2974, 2983, 2978, 2984, 2995, 2986, 2987, 2988, 2989, 2990, 2991, 2992, 2993, 2994, 2996, 2997, 2985, 2973, 2970, 2971, 2947, 2948, 2972, 2950, 2951, 2952, 2953, 2954, 2955, 2956, 2957, 2949, 2959, 2958, 2969, 2967, 2966, 2965, 2968, 2963, 2962, 2961, 2960, 2964], ...}"
      ]
     },
     "execution_count": 5,
     "metadata": {},
     "output_type": "execute_result"
    }
   ],
   "source": [
    "train_gp.groups"
   ]
  },
  {
   "cell_type": "markdown",
   "metadata": {},
   "source": [
    "## train data"
   ]
  },
  {
   "cell_type": "code",
   "execution_count": 6,
   "metadata": {},
   "outputs": [
    {
     "data": {
      "text/html": [
       "<div>\n",
       "<style scoped>\n",
       "    .dataframe tbody tr th:only-of-type {\n",
       "        vertical-align: middle;\n",
       "    }\n",
       "\n",
       "    .dataframe tbody tr th {\n",
       "        vertical-align: top;\n",
       "    }\n",
       "\n",
       "    .dataframe thead th {\n",
       "        text-align: right;\n",
       "    }\n",
       "</style>\n",
       "<table border=\"1\" class=\"dataframe\">\n",
       "  <thead>\n",
       "    <tr style=\"text-align: right;\">\n",
       "      <th></th>\n",
       "      <th>id</th>\n",
       "      <th>molecule_name</th>\n",
       "      <th>atom_index_0</th>\n",
       "      <th>atom_index_1</th>\n",
       "      <th>type</th>\n",
       "      <th>scalar_coupling_constant</th>\n",
       "      <th>fc</th>\n",
       "      <th>sd</th>\n",
       "      <th>pso</th>\n",
       "      <th>dso</th>\n",
       "    </tr>\n",
       "  </thead>\n",
       "  <tbody>\n",
       "    <tr>\n",
       "      <th>0</th>\n",
       "      <td>0</td>\n",
       "      <td>dsgdb9nsd_000001</td>\n",
       "      <td>1</td>\n",
       "      <td>0</td>\n",
       "      <td>1JHC</td>\n",
       "      <td>84.8076</td>\n",
       "      <td>83.0224</td>\n",
       "      <td>0.254579</td>\n",
       "      <td>1.25862</td>\n",
       "      <td>0.272010</td>\n",
       "    </tr>\n",
       "    <tr>\n",
       "      <th>1</th>\n",
       "      <td>1</td>\n",
       "      <td>dsgdb9nsd_000001</td>\n",
       "      <td>1</td>\n",
       "      <td>2</td>\n",
       "      <td>2JHH</td>\n",
       "      <td>-11.2570</td>\n",
       "      <td>-11.0347</td>\n",
       "      <td>0.352978</td>\n",
       "      <td>2.85839</td>\n",
       "      <td>-3.433600</td>\n",
       "    </tr>\n",
       "    <tr>\n",
       "      <th>2</th>\n",
       "      <td>2</td>\n",
       "      <td>dsgdb9nsd_000001</td>\n",
       "      <td>1</td>\n",
       "      <td>3</td>\n",
       "      <td>2JHH</td>\n",
       "      <td>-11.2548</td>\n",
       "      <td>-11.0325</td>\n",
       "      <td>0.352944</td>\n",
       "      <td>2.85852</td>\n",
       "      <td>-3.433870</td>\n",
       "    </tr>\n",
       "    <tr>\n",
       "      <th>3</th>\n",
       "      <td>3</td>\n",
       "      <td>dsgdb9nsd_000001</td>\n",
       "      <td>1</td>\n",
       "      <td>4</td>\n",
       "      <td>2JHH</td>\n",
       "      <td>-11.2543</td>\n",
       "      <td>-11.0319</td>\n",
       "      <td>0.352934</td>\n",
       "      <td>2.85855</td>\n",
       "      <td>-3.433930</td>\n",
       "    </tr>\n",
       "    <tr>\n",
       "      <th>4</th>\n",
       "      <td>4</td>\n",
       "      <td>dsgdb9nsd_000001</td>\n",
       "      <td>2</td>\n",
       "      <td>0</td>\n",
       "      <td>1JHC</td>\n",
       "      <td>84.8074</td>\n",
       "      <td>83.0222</td>\n",
       "      <td>0.254585</td>\n",
       "      <td>1.25861</td>\n",
       "      <td>0.272013</td>\n",
       "    </tr>\n",
       "    <tr>\n",
       "      <th>5</th>\n",
       "      <td>5</td>\n",
       "      <td>dsgdb9nsd_000001</td>\n",
       "      <td>2</td>\n",
       "      <td>3</td>\n",
       "      <td>2JHH</td>\n",
       "      <td>-11.2541</td>\n",
       "      <td>-11.0317</td>\n",
       "      <td>0.352932</td>\n",
       "      <td>2.85856</td>\n",
       "      <td>-3.433950</td>\n",
       "    </tr>\n",
       "    <tr>\n",
       "      <th>6</th>\n",
       "      <td>6</td>\n",
       "      <td>dsgdb9nsd_000001</td>\n",
       "      <td>2</td>\n",
       "      <td>4</td>\n",
       "      <td>2JHH</td>\n",
       "      <td>-11.2548</td>\n",
       "      <td>-11.0324</td>\n",
       "      <td>0.352943</td>\n",
       "      <td>2.85853</td>\n",
       "      <td>-3.433870</td>\n",
       "    </tr>\n",
       "    <tr>\n",
       "      <th>7</th>\n",
       "      <td>7</td>\n",
       "      <td>dsgdb9nsd_000001</td>\n",
       "      <td>3</td>\n",
       "      <td>0</td>\n",
       "      <td>1JHC</td>\n",
       "      <td>84.8093</td>\n",
       "      <td>83.0241</td>\n",
       "      <td>0.254634</td>\n",
       "      <td>1.25856</td>\n",
       "      <td>0.272012</td>\n",
       "    </tr>\n",
       "    <tr>\n",
       "      <th>8</th>\n",
       "      <td>8</td>\n",
       "      <td>dsgdb9nsd_000001</td>\n",
       "      <td>3</td>\n",
       "      <td>4</td>\n",
       "      <td>2JHH</td>\n",
       "      <td>-11.2543</td>\n",
       "      <td>-11.0319</td>\n",
       "      <td>0.352943</td>\n",
       "      <td>2.85856</td>\n",
       "      <td>-3.433930</td>\n",
       "    </tr>\n",
       "    <tr>\n",
       "      <th>9</th>\n",
       "      <td>9</td>\n",
       "      <td>dsgdb9nsd_000001</td>\n",
       "      <td>4</td>\n",
       "      <td>0</td>\n",
       "      <td>1JHC</td>\n",
       "      <td>84.8095</td>\n",
       "      <td>83.0243</td>\n",
       "      <td>0.254628</td>\n",
       "      <td>1.25856</td>\n",
       "      <td>0.272012</td>\n",
       "    </tr>\n",
       "  </tbody>\n",
       "</table>\n",
       "</div>"
      ],
      "text/plain": [
       "   id     molecule_name  atom_index_0  atom_index_1  type  \\\n",
       "0   0  dsgdb9nsd_000001             1             0  1JHC   \n",
       "1   1  dsgdb9nsd_000001             1             2  2JHH   \n",
       "2   2  dsgdb9nsd_000001             1             3  2JHH   \n",
       "3   3  dsgdb9nsd_000001             1             4  2JHH   \n",
       "4   4  dsgdb9nsd_000001             2             0  1JHC   \n",
       "5   5  dsgdb9nsd_000001             2             3  2JHH   \n",
       "6   6  dsgdb9nsd_000001             2             4  2JHH   \n",
       "7   7  dsgdb9nsd_000001             3             0  1JHC   \n",
       "8   8  dsgdb9nsd_000001             3             4  2JHH   \n",
       "9   9  dsgdb9nsd_000001             4             0  1JHC   \n",
       "\n",
       "   scalar_coupling_constant       fc        sd      pso       dso  \n",
       "0                   84.8076  83.0224  0.254579  1.25862  0.272010  \n",
       "1                  -11.2570 -11.0347  0.352978  2.85839 -3.433600  \n",
       "2                  -11.2548 -11.0325  0.352944  2.85852 -3.433870  \n",
       "3                  -11.2543 -11.0319  0.352934  2.85855 -3.433930  \n",
       "4                   84.8074  83.0222  0.254585  1.25861  0.272013  \n",
       "5                  -11.2541 -11.0317  0.352932  2.85856 -3.433950  \n",
       "6                  -11.2548 -11.0324  0.352943  2.85853 -3.433870  \n",
       "7                   84.8093  83.0241  0.254634  1.25856  0.272012  \n",
       "8                  -11.2543 -11.0319  0.352943  2.85856 -3.433930  \n",
       "9                   84.8095  83.0243  0.254628  1.25856  0.272012  "
      ]
     },
     "metadata": {},
     "output_type": "display_data"
    }
   ],
   "source": [
    "display(train.head(10))"
   ]
  },
  {
   "cell_type": "markdown",
   "metadata": {},
   "source": [
    "## validation data"
   ]
  },
  {
   "cell_type": "code",
   "execution_count": 7,
   "metadata": {},
   "outputs": [
    {
     "data": {
      "text/html": [
       "<div>\n",
       "<style scoped>\n",
       "    .dataframe tbody tr th:only-of-type {\n",
       "        vertical-align: middle;\n",
       "    }\n",
       "\n",
       "    .dataframe tbody tr th {\n",
       "        vertical-align: top;\n",
       "    }\n",
       "\n",
       "    .dataframe thead th {\n",
       "        text-align: right;\n",
       "    }\n",
       "</style>\n",
       "<table border=\"1\" class=\"dataframe\">\n",
       "  <thead>\n",
       "    <tr style=\"text-align: right;\">\n",
       "      <th></th>\n",
       "      <th>id</th>\n",
       "      <th>molecule_name</th>\n",
       "      <th>atom_index_0</th>\n",
       "      <th>atom_index_1</th>\n",
       "      <th>type</th>\n",
       "      <th>scalar_coupling_constant</th>\n",
       "      <th>fc</th>\n",
       "      <th>sd</th>\n",
       "      <th>pso</th>\n",
       "      <th>dso</th>\n",
       "    </tr>\n",
       "  </thead>\n",
       "  <tbody>\n",
       "    <tr>\n",
       "      <th>198</th>\n",
       "      <td>198</td>\n",
       "      <td>dsgdb9nsd_000018</td>\n",
       "      <td>4</td>\n",
       "      <td>0</td>\n",
       "      <td>1JHC</td>\n",
       "      <td>82.163900</td>\n",
       "      <td>80.284000</td>\n",
       "      <td>0.177421</td>\n",
       "      <td>1.067860</td>\n",
       "      <td>0.634598</td>\n",
       "    </tr>\n",
       "    <tr>\n",
       "      <th>221</th>\n",
       "      <td>221</td>\n",
       "      <td>dsgdb9nsd_000018</td>\n",
       "      <td>9</td>\n",
       "      <td>2</td>\n",
       "      <td>1JHC</td>\n",
       "      <td>82.162000</td>\n",
       "      <td>80.282000</td>\n",
       "      <td>0.177379</td>\n",
       "      <td>1.067950</td>\n",
       "      <td>0.634608</td>\n",
       "    </tr>\n",
       "    <tr>\n",
       "      <th>220</th>\n",
       "      <td>220</td>\n",
       "      <td>dsgdb9nsd_000018</td>\n",
       "      <td>9</td>\n",
       "      <td>1</td>\n",
       "      <td>2JHC</td>\n",
       "      <td>-2.596450</td>\n",
       "      <td>-2.640440</td>\n",
       "      <td>0.151414</td>\n",
       "      <td>-0.092291</td>\n",
       "      <td>-0.015137</td>\n",
       "    </tr>\n",
       "    <tr>\n",
       "      <th>219</th>\n",
       "      <td>219</td>\n",
       "      <td>dsgdb9nsd_000018</td>\n",
       "      <td>9</td>\n",
       "      <td>0</td>\n",
       "      <td>3JHC</td>\n",
       "      <td>-0.138109</td>\n",
       "      <td>-0.079968</td>\n",
       "      <td>-0.038726</td>\n",
       "      <td>0.030901</td>\n",
       "      <td>-0.050316</td>\n",
       "    </tr>\n",
       "    <tr>\n",
       "      <th>218</th>\n",
       "      <td>218</td>\n",
       "      <td>dsgdb9nsd_000018</td>\n",
       "      <td>8</td>\n",
       "      <td>9</td>\n",
       "      <td>2JHH</td>\n",
       "      <td>-10.603400</td>\n",
       "      <td>-10.614000</td>\n",
       "      <td>0.340467</td>\n",
       "      <td>2.400960</td>\n",
       "      <td>-2.730880</td>\n",
       "    </tr>\n",
       "    <tr>\n",
       "      <th>216</th>\n",
       "      <td>216</td>\n",
       "      <td>dsgdb9nsd_000018</td>\n",
       "      <td>8</td>\n",
       "      <td>1</td>\n",
       "      <td>2JHC</td>\n",
       "      <td>-5.540550</td>\n",
       "      <td>-5.180550</td>\n",
       "      <td>0.005772</td>\n",
       "      <td>-0.283195</td>\n",
       "      <td>-0.082575</td>\n",
       "    </tr>\n",
       "    <tr>\n",
       "      <th>215</th>\n",
       "      <td>215</td>\n",
       "      <td>dsgdb9nsd_000018</td>\n",
       "      <td>8</td>\n",
       "      <td>0</td>\n",
       "      <td>3JHC</td>\n",
       "      <td>4.362740</td>\n",
       "      <td>4.471570</td>\n",
       "      <td>0.051715</td>\n",
       "      <td>0.317936</td>\n",
       "      <td>-0.478486</td>\n",
       "    </tr>\n",
       "    <tr>\n",
       "      <th>214</th>\n",
       "      <td>214</td>\n",
       "      <td>dsgdb9nsd_000018</td>\n",
       "      <td>7</td>\n",
       "      <td>9</td>\n",
       "      <td>2JHH</td>\n",
       "      <td>-16.449500</td>\n",
       "      <td>-16.665100</td>\n",
       "      <td>0.380827</td>\n",
       "      <td>2.302350</td>\n",
       "      <td>-2.467570</td>\n",
       "    </tr>\n",
       "    <tr>\n",
       "      <th>213</th>\n",
       "      <td>213</td>\n",
       "      <td>dsgdb9nsd_000018</td>\n",
       "      <td>7</td>\n",
       "      <td>8</td>\n",
       "      <td>2JHH</td>\n",
       "      <td>-10.596700</td>\n",
       "      <td>-10.607000</td>\n",
       "      <td>0.340433</td>\n",
       "      <td>2.401080</td>\n",
       "      <td>-2.731130</td>\n",
       "    </tr>\n",
       "    <tr>\n",
       "      <th>212</th>\n",
       "      <td>212</td>\n",
       "      <td>dsgdb9nsd_000018</td>\n",
       "      <td>7</td>\n",
       "      <td>2</td>\n",
       "      <td>1JHC</td>\n",
       "      <td>82.163500</td>\n",
       "      <td>80.283700</td>\n",
       "      <td>0.177407</td>\n",
       "      <td>1.067870</td>\n",
       "      <td>0.634602</td>\n",
       "    </tr>\n",
       "  </tbody>\n",
       "</table>\n",
       "</div>"
      ],
      "text/plain": [
       "      id     molecule_name  atom_index_0  atom_index_1  type  \\\n",
       "198  198  dsgdb9nsd_000018             4             0  1JHC   \n",
       "221  221  dsgdb9nsd_000018             9             2  1JHC   \n",
       "220  220  dsgdb9nsd_000018             9             1  2JHC   \n",
       "219  219  dsgdb9nsd_000018             9             0  3JHC   \n",
       "218  218  dsgdb9nsd_000018             8             9  2JHH   \n",
       "216  216  dsgdb9nsd_000018             8             1  2JHC   \n",
       "215  215  dsgdb9nsd_000018             8             0  3JHC   \n",
       "214  214  dsgdb9nsd_000018             7             9  2JHH   \n",
       "213  213  dsgdb9nsd_000018             7             8  2JHH   \n",
       "212  212  dsgdb9nsd_000018             7             2  1JHC   \n",
       "\n",
       "     scalar_coupling_constant         fc        sd       pso       dso  \n",
       "198                 82.163900  80.284000  0.177421  1.067860  0.634598  \n",
       "221                 82.162000  80.282000  0.177379  1.067950  0.634608  \n",
       "220                 -2.596450  -2.640440  0.151414 -0.092291 -0.015137  \n",
       "219                 -0.138109  -0.079968 -0.038726  0.030901 -0.050316  \n",
       "218                -10.603400 -10.614000  0.340467  2.400960 -2.730880  \n",
       "216                 -5.540550  -5.180550  0.005772 -0.283195 -0.082575  \n",
       "215                  4.362740   4.471570  0.051715  0.317936 -0.478486  \n",
       "214                -16.449500 -16.665100  0.380827  2.302350 -2.467570  \n",
       "213                -10.596700 -10.607000  0.340433  2.401080 -2.731130  \n",
       "212                 82.163500  80.283700  0.177407  1.067870  0.634602  "
      ]
     },
     "metadata": {},
     "output_type": "display_data"
    }
   ],
   "source": [
    "display(valid.head(10))"
   ]
  },
  {
   "cell_type": "markdown",
   "metadata": {},
   "source": [
    "## test data"
   ]
  },
  {
   "cell_type": "code",
   "execution_count": 8,
   "metadata": {},
   "outputs": [
    {
     "data": {
      "text/html": [
       "<div>\n",
       "<style scoped>\n",
       "    .dataframe tbody tr th:only-of-type {\n",
       "        vertical-align: middle;\n",
       "    }\n",
       "\n",
       "    .dataframe tbody tr th {\n",
       "        vertical-align: top;\n",
       "    }\n",
       "\n",
       "    .dataframe thead th {\n",
       "        text-align: right;\n",
       "    }\n",
       "</style>\n",
       "<table border=\"1\" class=\"dataframe\">\n",
       "  <thead>\n",
       "    <tr style=\"text-align: right;\">\n",
       "      <th></th>\n",
       "      <th>id</th>\n",
       "      <th>molecule_name</th>\n",
       "      <th>atom_index_0</th>\n",
       "      <th>atom_index_1</th>\n",
       "      <th>type</th>\n",
       "    </tr>\n",
       "  </thead>\n",
       "  <tbody>\n",
       "    <tr>\n",
       "      <th>0</th>\n",
       "      <td>4659076</td>\n",
       "      <td>dsgdb9nsd_000004</td>\n",
       "      <td>2</td>\n",
       "      <td>0</td>\n",
       "      <td>2JHC</td>\n",
       "    </tr>\n",
       "    <tr>\n",
       "      <th>1</th>\n",
       "      <td>4659077</td>\n",
       "      <td>dsgdb9nsd_000004</td>\n",
       "      <td>2</td>\n",
       "      <td>1</td>\n",
       "      <td>1JHC</td>\n",
       "    </tr>\n",
       "    <tr>\n",
       "      <th>2</th>\n",
       "      <td>4659078</td>\n",
       "      <td>dsgdb9nsd_000004</td>\n",
       "      <td>2</td>\n",
       "      <td>3</td>\n",
       "      <td>3JHH</td>\n",
       "    </tr>\n",
       "    <tr>\n",
       "      <th>3</th>\n",
       "      <td>4659079</td>\n",
       "      <td>dsgdb9nsd_000004</td>\n",
       "      <td>3</td>\n",
       "      <td>0</td>\n",
       "      <td>1JHC</td>\n",
       "    </tr>\n",
       "    <tr>\n",
       "      <th>4</th>\n",
       "      <td>4659080</td>\n",
       "      <td>dsgdb9nsd_000004</td>\n",
       "      <td>3</td>\n",
       "      <td>1</td>\n",
       "      <td>2JHC</td>\n",
       "    </tr>\n",
       "    <tr>\n",
       "      <th>28</th>\n",
       "      <td>4659104</td>\n",
       "      <td>dsgdb9nsd_000014</td>\n",
       "      <td>8</td>\n",
       "      <td>1</td>\n",
       "      <td>2JHC</td>\n",
       "    </tr>\n",
       "    <tr>\n",
       "      <th>26</th>\n",
       "      <td>4659102</td>\n",
       "      <td>dsgdb9nsd_000014</td>\n",
       "      <td>7</td>\n",
       "      <td>8</td>\n",
       "      <td>3JHH</td>\n",
       "    </tr>\n",
       "    <tr>\n",
       "      <th>25</th>\n",
       "      <td>4659101</td>\n",
       "      <td>dsgdb9nsd_000014</td>\n",
       "      <td>7</td>\n",
       "      <td>1</td>\n",
       "      <td>1JHC</td>\n",
       "    </tr>\n",
       "    <tr>\n",
       "      <th>24</th>\n",
       "      <td>4659100</td>\n",
       "      <td>dsgdb9nsd_000014</td>\n",
       "      <td>7</td>\n",
       "      <td>0</td>\n",
       "      <td>2JHC</td>\n",
       "    </tr>\n",
       "    <tr>\n",
       "      <th>23</th>\n",
       "      <td>4659099</td>\n",
       "      <td>dsgdb9nsd_000014</td>\n",
       "      <td>6</td>\n",
       "      <td>8</td>\n",
       "      <td>3JHH</td>\n",
       "    </tr>\n",
       "  </tbody>\n",
       "</table>\n",
       "</div>"
      ],
      "text/plain": [
       "         id     molecule_name  atom_index_0  atom_index_1  type\n",
       "0   4659076  dsgdb9nsd_000004             2             0  2JHC\n",
       "1   4659077  dsgdb9nsd_000004             2             1  1JHC\n",
       "2   4659078  dsgdb9nsd_000004             2             3  3JHH\n",
       "3   4659079  dsgdb9nsd_000004             3             0  1JHC\n",
       "4   4659080  dsgdb9nsd_000004             3             1  2JHC\n",
       "28  4659104  dsgdb9nsd_000014             8             1  2JHC\n",
       "26  4659102  dsgdb9nsd_000014             7             8  3JHH\n",
       "25  4659101  dsgdb9nsd_000014             7             1  1JHC\n",
       "24  4659100  dsgdb9nsd_000014             7             0  2JHC\n",
       "23  4659099  dsgdb9nsd_000014             6             8  3JHH"
      ]
     },
     "metadata": {},
     "output_type": "display_data"
    }
   ],
   "source": [
    "display(test.head(10))"
   ]
  },
  {
   "cell_type": "markdown",
   "metadata": {},
   "source": [
    "## structures"
   ]
  },
  {
   "cell_type": "code",
   "execution_count": 9,
   "metadata": {},
   "outputs": [
    {
     "data": {
      "text/html": [
       "<div>\n",
       "<style scoped>\n",
       "    .dataframe tbody tr th:only-of-type {\n",
       "        vertical-align: middle;\n",
       "    }\n",
       "\n",
       "    .dataframe tbody tr th {\n",
       "        vertical-align: top;\n",
       "    }\n",
       "\n",
       "    .dataframe thead th {\n",
       "        text-align: right;\n",
       "    }\n",
       "</style>\n",
       "<table border=\"1\" class=\"dataframe\">\n",
       "  <thead>\n",
       "    <tr style=\"text-align: right;\">\n",
       "      <th></th>\n",
       "      <th>molecule_name</th>\n",
       "      <th>atom_index</th>\n",
       "      <th>atom</th>\n",
       "      <th>x</th>\n",
       "      <th>y</th>\n",
       "      <th>z</th>\n",
       "    </tr>\n",
       "  </thead>\n",
       "  <tbody>\n",
       "    <tr>\n",
       "      <th>0</th>\n",
       "      <td>dsgdb9nsd_000001</td>\n",
       "      <td>0</td>\n",
       "      <td>C</td>\n",
       "      <td>-0.012698</td>\n",
       "      <td>1.085804</td>\n",
       "      <td>0.008001</td>\n",
       "    </tr>\n",
       "    <tr>\n",
       "      <th>1</th>\n",
       "      <td>dsgdb9nsd_000001</td>\n",
       "      <td>1</td>\n",
       "      <td>H</td>\n",
       "      <td>0.002150</td>\n",
       "      <td>-0.006031</td>\n",
       "      <td>0.001976</td>\n",
       "    </tr>\n",
       "    <tr>\n",
       "      <th>2</th>\n",
       "      <td>dsgdb9nsd_000001</td>\n",
       "      <td>2</td>\n",
       "      <td>H</td>\n",
       "      <td>1.011731</td>\n",
       "      <td>1.463751</td>\n",
       "      <td>0.000277</td>\n",
       "    </tr>\n",
       "    <tr>\n",
       "      <th>3</th>\n",
       "      <td>dsgdb9nsd_000001</td>\n",
       "      <td>3</td>\n",
       "      <td>H</td>\n",
       "      <td>-0.540815</td>\n",
       "      <td>1.447527</td>\n",
       "      <td>-0.876644</td>\n",
       "    </tr>\n",
       "    <tr>\n",
       "      <th>4</th>\n",
       "      <td>dsgdb9nsd_000001</td>\n",
       "      <td>4</td>\n",
       "      <td>H</td>\n",
       "      <td>-0.523814</td>\n",
       "      <td>1.437933</td>\n",
       "      <td>0.906397</td>\n",
       "    </tr>\n",
       "    <tr>\n",
       "      <th>5</th>\n",
       "      <td>dsgdb9nsd_000002</td>\n",
       "      <td>0</td>\n",
       "      <td>N</td>\n",
       "      <td>-0.040426</td>\n",
       "      <td>1.024108</td>\n",
       "      <td>0.062564</td>\n",
       "    </tr>\n",
       "    <tr>\n",
       "      <th>6</th>\n",
       "      <td>dsgdb9nsd_000002</td>\n",
       "      <td>1</td>\n",
       "      <td>H</td>\n",
       "      <td>0.017257</td>\n",
       "      <td>0.012545</td>\n",
       "      <td>-0.027377</td>\n",
       "    </tr>\n",
       "    <tr>\n",
       "      <th>7</th>\n",
       "      <td>dsgdb9nsd_000002</td>\n",
       "      <td>2</td>\n",
       "      <td>H</td>\n",
       "      <td>0.915789</td>\n",
       "      <td>1.358745</td>\n",
       "      <td>-0.028758</td>\n",
       "    </tr>\n",
       "    <tr>\n",
       "      <th>8</th>\n",
       "      <td>dsgdb9nsd_000002</td>\n",
       "      <td>3</td>\n",
       "      <td>H</td>\n",
       "      <td>-0.520278</td>\n",
       "      <td>1.343532</td>\n",
       "      <td>-0.775543</td>\n",
       "    </tr>\n",
       "    <tr>\n",
       "      <th>9</th>\n",
       "      <td>dsgdb9nsd_000003</td>\n",
       "      <td>0</td>\n",
       "      <td>O</td>\n",
       "      <td>-0.034360</td>\n",
       "      <td>0.977540</td>\n",
       "      <td>0.007602</td>\n",
       "    </tr>\n",
       "  </tbody>\n",
       "</table>\n",
       "</div>"
      ],
      "text/plain": [
       "      molecule_name  atom_index atom         x         y         z\n",
       "0  dsgdb9nsd_000001           0    C -0.012698  1.085804  0.008001\n",
       "1  dsgdb9nsd_000001           1    H  0.002150 -0.006031  0.001976\n",
       "2  dsgdb9nsd_000001           2    H  1.011731  1.463751  0.000277\n",
       "3  dsgdb9nsd_000001           3    H -0.540815  1.447527 -0.876644\n",
       "4  dsgdb9nsd_000001           4    H -0.523814  1.437933  0.906397\n",
       "5  dsgdb9nsd_000002           0    N -0.040426  1.024108  0.062564\n",
       "6  dsgdb9nsd_000002           1    H  0.017257  0.012545 -0.027377\n",
       "7  dsgdb9nsd_000002           2    H  0.915789  1.358745 -0.028758\n",
       "8  dsgdb9nsd_000002           3    H -0.520278  1.343532 -0.775543\n",
       "9  dsgdb9nsd_000003           0    O -0.034360  0.977540  0.007602"
      ]
     },
     "metadata": {},
     "output_type": "display_data"
    }
   ],
   "source": [
    "display(structures.head(10))"
   ]
  },
  {
   "cell_type": "code",
   "execution_count": 10,
   "metadata": {},
   "outputs": [
    {
     "name": "stderr",
     "output_type": "stream",
     "text": [
      "'ls' �����ڲ����ⲿ���Ҳ���ǿ����еĳ���\n",
      "���������ļ���\n"
     ]
    }
   ],
   "source": [
    "train.to_csv('train.csv', index=False)\n",
    "test.to_csv('test.csv', index=False)\n",
    "valid.to_csv('valid.csv', index=False)\n",
    "structures.to_csv('structures.csv', index=False)\n",
    "!ls "
   ]
  },
  {
   "cell_type": "markdown",
   "metadata": {},
   "source": [
    "# Preprocessing\n",
    "I implemented a class named `Graph` whose instances contain molecules.\n",
    "The distances between atoms are calculated in the initializer of this class.\n",
    "## Define Graph class"
   ]
  },
  {
   "cell_type": "code",
   "execution_count": 11,
   "metadata": {},
   "outputs": [],
   "source": [
    "from scipy.spatial import distance\n",
    "\n",
    "\n",
    "class Graph:\n",
    "\n",
    "    def __init__(self, points_df, list_atoms, molecule):\n",
    "\n",
    "        self.name = molecule\n",
    "        \n",
    "        self.points = points_df[['x', 'y', 'z']].values\n",
    "\n",
    "        self._dists = distance.cdist(self.points, self.points)\n",
    "\n",
    "        self.adj = self._dists < 1.5\n",
    "        self.num_nodes = len(points_df)\n",
    "        \n",
    "        self.natoms = self.num_nodes\n",
    "        \n",
    "        self.atoms = points_df['atom']\n",
    "        dict_atoms = {at: i for i, at in enumerate(list_atoms)}\n",
    "\n",
    "        atom_index = [dict_atoms[atom] for atom in self.atoms]\n",
    "        one_hot = np.identity(len(dict_atoms))[atom_index]\n",
    "\n",
    "        bond = np.sum(self.adj, 1) - 1\n",
    "        bonds = np.identity(len(dict_atoms))[bond - 1]\n",
    "\n",
    "        self._array = np.concatenate([one_hot, bonds], axis=1).astype(np.float32)\n",
    "\n",
    "    @property\n",
    "    def input_array(self):\n",
    "        return self._array\n",
    "\n",
    "    @property\n",
    "    def dists(self):\n",
    "        return self._dists.astype(np.float32)"
   ]
  },
  {
   "cell_type": "markdown",
   "metadata": {},
   "source": [
    "## Convert into graph object\n",
    "Each dataset is represented as a list of Graphs and prediction targets."
   ]
  },
  {
   "cell_type": "code",
   "execution_count": 12,
   "metadata": {},
   "outputs": [
    {
     "name": "stdout",
     "output_type": "stream",
     "text": [
      "['H', 'F', 'N', 'C', 'O']\n",
      "dsgdb9nsd_000001\n",
      "0    C\n",
      "1    H\n",
      "2    H\n",
      "3    H\n",
      "4    H\n",
      "Name: atom, dtype: object\n"
     ]
    }
   ],
   "source": [
    "list_atoms = list(set(structures['atom']))\n",
    "print (list_atoms)\n",
    "for mole in train_moles:\n",
    "    a = Graph(structures_groups.get_group(mole), list_atoms, mole)\n",
    "    break\n",
    "    \n",
    "print(a.name)\n",
    "print(a.atoms)"
   ]
  },
  {
   "cell_type": "code",
   "execution_count": 13,
   "metadata": {},
   "outputs": [
    {
     "data": {
      "text/plain": [
       "array([[0., 0., 0., 1., 0., 0., 0., 0., 1., 0.],\n",
       "       [1., 0., 0., 0., 0., 1., 0., 0., 0., 0.],\n",
       "       [1., 0., 0., 0., 0., 1., 0., 0., 0., 0.],\n",
       "       [1., 0., 0., 0., 0., 1., 0., 0., 0., 0.],\n",
       "       [1., 0., 0., 0., 0., 1., 0., 0., 0., 0.]], dtype=float32)"
      ]
     },
     "execution_count": 13,
     "metadata": {},
     "output_type": "execute_result"
    }
   ],
   "source": [
    "a.input_array"
   ]
  },
  {
   "cell_type": "code",
   "execution_count": 14,
   "metadata": {},
   "outputs": [
    {
     "data": {
      "text/plain": [
       "array([[0.       , 1.091953 , 1.0919516, 1.0919464, 1.0919476],\n",
       "       [1.091953 , 0.       , 1.7831198, 1.7831475, 1.7831566],\n",
       "       [1.0919516, 1.7831198, 0.       , 1.7831577, 1.7831484],\n",
       "       [1.0919464, 1.7831475, 1.7831577, 0.       , 1.7831479],\n",
       "       [1.0919476, 1.7831566, 1.7831484, 1.7831479, 0.       ]],\n",
       "      dtype=float32)"
      ]
     },
     "execution_count": 14,
     "metadata": {},
     "output_type": "execute_result"
    }
   ],
   "source": [
    "a.dists"
   ]
  },
  {
   "cell_type": "code",
   "execution_count": 15,
   "metadata": {
    "_kg_hide-input": true
   },
   "outputs": [
    {
     "name": "stdout",
     "output_type": "stream",
     "text": [
      "list of atoms\n",
      "['H', 'F', 'N', 'C', 'O']\n",
      "preprocess training molecules ...\n",
      "preprocess validation molecules ...\n",
      "preprocess test molecules ...\n",
      "Wall time: 1min 39s\n"
     ]
    }
   ],
   "source": [
    "%%time\n",
    "\n",
    "list_atoms = list(set(structures['atom']))\n",
    "print('list of atoms')\n",
    "print(list_atoms)\n",
    "    \n",
    "train_graphs = list()\n",
    "train_targets = list()\n",
    "print('preprocess training molecules ...')\n",
    "for mole in train_moles:\n",
    "    train_graphs.append(Graph(structures_groups.get_group(mole), list_atoms, mole))\n",
    "    train_targets.append(train_gp.get_group(mole))\n",
    "\n",
    "valid_graphs = list()\n",
    "valid_targets = list()\n",
    "print('preprocess validation molecules ...')\n",
    "for mole in valid_moles:\n",
    "    valid_graphs.append(Graph(structures_groups.get_group(mole), list_atoms, mole))\n",
    "    valid_targets.append(valid_gp.get_group(mole))\n",
    "\n",
    "test_graphs = list()\n",
    "test_targets = list()\n",
    "print('preprocess test molecules ...')\n",
    "for mole in test_moles:\n",
    "    test_graphs.append(Graph(structures_groups.get_group(mole), list_atoms, mole))\n",
    "    test_targets.append(test_gp.get_group(mole))"
   ]
  },
  {
   "cell_type": "code",
   "execution_count": 16,
   "metadata": {},
   "outputs": [
    {
     "name": "stdout",
     "output_type": "stream",
     "text": [
      "76510 76510\n"
     ]
    }
   ],
   "source": [
    "print (len(train_graphs), len(train_targets))"
   ]
  },
  {
   "cell_type": "code",
   "execution_count": 17,
   "metadata": {},
   "outputs": [
    {
     "name": "stdout",
     "output_type": "stream",
     "text": [
      "<__main__.Graph object at 0x000001E329B48188>\n"
     ]
    },
    {
     "data": {
      "text/plain": [
       "0    C\n",
       "1    H\n",
       "2    H\n",
       "3    H\n",
       "4    H\n",
       "Name: atom, dtype: object"
      ]
     },
     "execution_count": 17,
     "metadata": {},
     "output_type": "execute_result"
    }
   ],
   "source": [
    "print (train_graphs[0])\n",
    "train_graphs[0].atoms"
   ]
  },
  {
   "cell_type": "code",
   "execution_count": 18,
   "metadata": {},
   "outputs": [
    {
     "data": {
      "text/plain": [
       "array([[0., 0., 0., 1., 0., 0., 0., 0., 1., 0.],\n",
       "       [1., 0., 0., 0., 0., 1., 0., 0., 0., 0.],\n",
       "       [1., 0., 0., 0., 0., 1., 0., 0., 0., 0.],\n",
       "       [1., 0., 0., 0., 0., 1., 0., 0., 0., 0.],\n",
       "       [1., 0., 0., 0., 0., 1., 0., 0., 0., 0.]], dtype=float32)"
      ]
     },
     "execution_count": 18,
     "metadata": {},
     "output_type": "execute_result"
    }
   ],
   "source": [
    "train_graphs[0].input_array"
   ]
  },
  {
   "cell_type": "code",
   "execution_count": 19,
   "metadata": {},
   "outputs": [
    {
     "data": {
      "text/plain": [
       "array([[0.       , 1.091953 , 1.0919516, 1.0919464, 1.0919476],\n",
       "       [1.091953 , 0.       , 1.7831198, 1.7831475, 1.7831566],\n",
       "       [1.0919516, 1.7831198, 0.       , 1.7831577, 1.7831484],\n",
       "       [1.0919464, 1.7831475, 1.7831577, 0.       , 1.7831479],\n",
       "       [1.0919476, 1.7831566, 1.7831484, 1.7831479, 0.       ]],\n",
       "      dtype=float32)"
      ]
     },
     "execution_count": 19,
     "metadata": {},
     "output_type": "execute_result"
    }
   ],
   "source": [
    "train_graphs[0].dists"
   ]
  },
  {
   "cell_type": "markdown",
   "metadata": {},
   "source": [
    "### Targets!"
   ]
  },
  {
   "cell_type": "code",
   "execution_count": 20,
   "metadata": {},
   "outputs": [
    {
     "data": {
      "text/html": [
       "<div>\n",
       "<style scoped>\n",
       "    .dataframe tbody tr th:only-of-type {\n",
       "        vertical-align: middle;\n",
       "    }\n",
       "\n",
       "    .dataframe tbody tr th {\n",
       "        vertical-align: top;\n",
       "    }\n",
       "\n",
       "    .dataframe thead th {\n",
       "        text-align: right;\n",
       "    }\n",
       "</style>\n",
       "<table border=\"1\" class=\"dataframe\">\n",
       "  <thead>\n",
       "    <tr style=\"text-align: right;\">\n",
       "      <th></th>\n",
       "      <th>id</th>\n",
       "      <th>molecule_name</th>\n",
       "      <th>atom_index_0</th>\n",
       "      <th>atom_index_1</th>\n",
       "      <th>type</th>\n",
       "      <th>scalar_coupling_constant</th>\n",
       "      <th>fc</th>\n",
       "      <th>sd</th>\n",
       "      <th>pso</th>\n",
       "      <th>dso</th>\n",
       "    </tr>\n",
       "  </thead>\n",
       "  <tbody>\n",
       "    <tr>\n",
       "      <th>10</th>\n",
       "      <td>10</td>\n",
       "      <td>dsgdb9nsd_000002</td>\n",
       "      <td>1</td>\n",
       "      <td>0</td>\n",
       "      <td>1JHN</td>\n",
       "      <td>32.6889</td>\n",
       "      <td>30.6116</td>\n",
       "      <td>0.059952</td>\n",
       "      <td>1.94935</td>\n",
       "      <td>0.067923</td>\n",
       "    </tr>\n",
       "    <tr>\n",
       "      <th>11</th>\n",
       "      <td>11</td>\n",
       "      <td>dsgdb9nsd_000002</td>\n",
       "      <td>1</td>\n",
       "      <td>2</td>\n",
       "      <td>2JHH</td>\n",
       "      <td>-11.1866</td>\n",
       "      <td>-11.8280</td>\n",
       "      <td>0.574885</td>\n",
       "      <td>5.01783</td>\n",
       "      <td>-4.951410</td>\n",
       "    </tr>\n",
       "    <tr>\n",
       "      <th>12</th>\n",
       "      <td>12</td>\n",
       "      <td>dsgdb9nsd_000002</td>\n",
       "      <td>1</td>\n",
       "      <td>3</td>\n",
       "      <td>2JHH</td>\n",
       "      <td>-11.1757</td>\n",
       "      <td>-11.8157</td>\n",
       "      <td>0.574494</td>\n",
       "      <td>5.01889</td>\n",
       "      <td>-4.953350</td>\n",
       "    </tr>\n",
       "    <tr>\n",
       "      <th>13</th>\n",
       "      <td>13</td>\n",
       "      <td>dsgdb9nsd_000002</td>\n",
       "      <td>2</td>\n",
       "      <td>0</td>\n",
       "      <td>1JHN</td>\n",
       "      <td>32.6891</td>\n",
       "      <td>30.6119</td>\n",
       "      <td>0.059961</td>\n",
       "      <td>1.94935</td>\n",
       "      <td>0.067922</td>\n",
       "    </tr>\n",
       "    <tr>\n",
       "      <th>14</th>\n",
       "      <td>14</td>\n",
       "      <td>dsgdb9nsd_000002</td>\n",
       "      <td>2</td>\n",
       "      <td>3</td>\n",
       "      <td>2JHH</td>\n",
       "      <td>-11.1758</td>\n",
       "      <td>-11.8159</td>\n",
       "      <td>0.574501</td>\n",
       "      <td>5.01890</td>\n",
       "      <td>-4.953350</td>\n",
       "    </tr>\n",
       "    <tr>\n",
       "      <th>15</th>\n",
       "      <td>15</td>\n",
       "      <td>dsgdb9nsd_000002</td>\n",
       "      <td>3</td>\n",
       "      <td>0</td>\n",
       "      <td>1JHN</td>\n",
       "      <td>32.6905</td>\n",
       "      <td>30.6135</td>\n",
       "      <td>0.059939</td>\n",
       "      <td>1.94911</td>\n",
       "      <td>0.067931</td>\n",
       "    </tr>\n",
       "  </tbody>\n",
       "</table>\n",
       "</div>"
      ],
      "text/plain": [
       "    id     molecule_name  atom_index_0  atom_index_1  type  \\\n",
       "10  10  dsgdb9nsd_000002             1             0  1JHN   \n",
       "11  11  dsgdb9nsd_000002             1             2  2JHH   \n",
       "12  12  dsgdb9nsd_000002             1             3  2JHH   \n",
       "13  13  dsgdb9nsd_000002             2             0  1JHN   \n",
       "14  14  dsgdb9nsd_000002             2             3  2JHH   \n",
       "15  15  dsgdb9nsd_000002             3             0  1JHN   \n",
       "\n",
       "    scalar_coupling_constant       fc        sd      pso       dso  \n",
       "10                   32.6889  30.6116  0.059952  1.94935  0.067923  \n",
       "11                  -11.1866 -11.8280  0.574885  5.01783 -4.951410  \n",
       "12                  -11.1757 -11.8157  0.574494  5.01889 -4.953350  \n",
       "13                   32.6891  30.6119  0.059961  1.94935  0.067922  \n",
       "14                  -11.1758 -11.8159  0.574501  5.01890 -4.953350  \n",
       "15                   32.6905  30.6135  0.059939  1.94911  0.067931  "
      ]
     },
     "execution_count": 20,
     "metadata": {},
     "output_type": "execute_result"
    }
   ],
   "source": [
    "train_targets[1]"
   ]
  },
  {
   "cell_type": "markdown",
   "metadata": {},
   "source": [
    "## Convert into chainer's dataset\n",
    "This type of dataset can be handled by `DictDataset`.\n",
    "Graph objects and prediction targets are merged as a `DictDataset`."
   ]
  },
  {
   "cell_type": "code",
   "execution_count": 21,
   "metadata": {},
   "outputs": [],
   "source": [
    "from chainer.datasets.dict_dataset import DictDataset\n",
    "\n",
    "train_dataset = DictDataset(graphs=train_graphs, targets=train_targets)\n",
    "valid_dataset = DictDataset(graphs=valid_graphs, targets=valid_targets)\n",
    "test_dataset = DictDataset(graphs=test_graphs, targets=test_targets)"
   ]
  },
  {
   "cell_type": "code",
   "execution_count": 22,
   "metadata": {},
   "outputs": [
    {
     "data": {
      "text/plain": [
       "<chainer.datasets.dict_dataset.DictDataset at 0x1e329b0a308>"
      ]
     },
     "execution_count": 22,
     "metadata": {},
     "output_type": "execute_result"
    }
   ],
   "source": [
    "train_dataset"
   ]
  },
  {
   "cell_type": "markdown",
   "metadata": {},
   "source": [
    "# Model\n",
    "## Build SchNet model\n",
    "The prediction model is implemented as follows.\n",
    "First, fully connected layer is applied to input arrays to align dimensions.\n",
    "Next, SchNet layer is applied for feature extraction.\n",
    "Finally, features vectors are concatenated and thrown into three layers MLP.\n",
    "I add batch-normalization layers like ResNet."
   ]
  },
  {
   "cell_type": "code",
   "execution_count": 23,
   "metadata": {},
   "outputs": [],
   "source": [
    "from chainer import reporter\n",
    "from chainer import functions as F\n",
    "from chainer import links as L\n",
    "from chainer_chemistry.links import SchNetUpdate\n",
    "from chainer_chemistry.links import GraphLinear, GraphBatchNormalization"
   ]
  },
  {
   "cell_type": "code",
   "execution_count": 24,
   "metadata": {},
   "outputs": [
    {
     "data": {
      "text/plain": [
       "<__main__.SchNet at 0x1e3df8610c8>"
      ]
     },
     "execution_count": 24,
     "metadata": {},
     "output_type": "execute_result"
    }
   ],
   "source": [
    "\n",
    "\n",
    "class SchNetUpdateBN(SchNetUpdate):\n",
    "\n",
    "    def __init__(self, *args, **kwargs):\n",
    "        super(SchNetUpdateBN, self).__init__(*args, **kwargs)\n",
    "        with self.init_scope():\n",
    "            self.bn = GraphBatchNormalization(args[0])\n",
    "\n",
    "    def __call__(self, h, adj, **kwargs):\n",
    "        v = self.linear[0](h)\n",
    "        v = self.cfconv(v, adj)\n",
    "        v = self.bn(v)\n",
    "        v = self.linear[1](v)\n",
    "        v = F.softplus(v)\n",
    "        v = self.bn(v)\n",
    "        v = self.linear[2](v)\n",
    "        return h + self.bn(v)\n",
    "\n",
    "class SchNet(chainer.Chain):\n",
    "\n",
    "    def __init__(self, num_layer=3):\n",
    "        super(SchNet, self).__init__()\n",
    "\n",
    "        self.num_layer = num_layer\n",
    "\n",
    "        with self.init_scope():\n",
    "            self.gn = GraphLinear(512)\n",
    "            for l in range(self.num_layer):\n",
    "                self.add_link('sch{}'.format(l), SchNetUpdateBN(512))\n",
    "\n",
    "            self.interaction1 = L.Linear(512)\n",
    "            self.interaction2 = L.Linear(256)\n",
    "            self.interaction3 = L.Linear(4)\n",
    "\n",
    "    def __call__(self, input_array, dists, pairs_index, targets):\n",
    "\n",
    "        out = self.predict(input_array, dists, pairs_index)\n",
    "        loss = F.mean_absolute_error(out, targets)\n",
    "        reporter.report({'loss': loss}, self)\n",
    "        return loss\n",
    "\n",
    "    def predict(self, input_array, dists, pairs_index, **kwargs):\n",
    "\n",
    "        h = self.gn(input_array)\n",
    "\n",
    "        for l in range(self.num_layer):\n",
    "            h = self['sch{}'.format(l)](h, dists)\n",
    "\n",
    "        h = F.concat((h, input_array), axis=2)\n",
    "\n",
    "        concat = F.concat([\n",
    "            h[pairs_index[:, 0], pairs_index[:, 1], :],\n",
    "            h[pairs_index[:, 0], pairs_index[:, 2], :],\n",
    "            F.expand_dims(dists[pairs_index[:, 0],\n",
    "                                pairs_index[:, 1],\n",
    "                                pairs_index[:, 2]], 1)\n",
    "        ], axis=1)\n",
    "\n",
    "        h1 = F.relu(self.interaction1(concat))\n",
    "        h2 = F.relu(self.interaction2(h1))\n",
    "        out = self.interaction3(h2)\n",
    "\n",
    "        return out\n",
    "\n",
    "model = SchNet(num_layer=3)\n",
    "model.to_gpu(device=0)"
   ]
  },
  {
   "cell_type": "markdown",
   "metadata": {},
   "source": [
    "# Training preparation\n",
    "## Make samplers\n",
    "For mini-batch training, I implement a sampler named `SameSizeSampler`.\n",
    "The molecules which have same number of atoms are selected simultaneously."
   ]
  },
  {
   "cell_type": "code",
   "execution_count": 25,
   "metadata": {},
   "outputs": [
    {
     "data": {
      "text/plain": [
       "RandomState(MT19937) at 0x1E31480E8C8"
      ]
     },
     "execution_count": 25,
     "metadata": {},
     "output_type": "execute_result"
    }
   ],
   "source": [
    "np.random.random.__self__"
   ]
  },
  {
   "cell_type": "code",
   "execution_count": 26,
   "metadata": {},
   "outputs": [],
   "source": [
    "from chainer.iterators import OrderSampler\n",
    "\n",
    "class SameSizeSampler(OrderSampler):\n",
    "\n",
    "    def __init__(self, structures_groups, moles, batch_size,\n",
    "                 random_state=42, use_remainder=False):\n",
    "\n",
    "        self.structures_groups = structures_groups\n",
    "        self.moles = moles\n",
    "        self.batch_size = batch_size\n",
    "        if random_state is None:\n",
    "            random_state = np.random.random.__self__\n",
    "        self._random = random_state\n",
    "        self.use_remainder = use_remainder\n",
    "\n",
    "    def __call__(self, current_order, current_position):\n",
    "\n",
    "        batches = list()\n",
    "\n",
    "        atom_counts = pd.DataFrame()\n",
    "        atom_counts['mol_index'] = np.arange(len(self.moles))\n",
    "        atom_counts['molecular_name'] = self.moles\n",
    "        atom_counts['num_atom'] = [len(self.structures_groups.get_group(mol))\n",
    "                                   for mol in self.moles]\n",
    "\n",
    "        num_atom_counts = atom_counts['num_atom'].value_counts()\n",
    "\n",
    "        for count, num_mol in num_atom_counts.to_dict().items():\n",
    "            if self.use_remainder:\n",
    "                num_batch_for_this = -(-num_mol // self.batch_size)\n",
    "            else:\n",
    "                num_batch_for_this = num_mol // self.batch_size\n",
    "\n",
    "            target_mols = atom_counts.query('num_atom==@count')['mol_index'].values\n",
    "            random.shuffle(target_mols)\n",
    "\n",
    "            devider = np.arange(0, len(target_mols), self.batch_size)\n",
    "            devider = np.append(devider, 99999)\n",
    "\n",
    "            if self.use_remainder:\n",
    "                target_mols = np.append(\n",
    "                    target_mols,\n",
    "                    np.repeat(target_mols[-1], -len(target_mols) % self.batch_size))\n",
    "\n",
    "            for b in range(num_batch_for_this):\n",
    "                batches.append(target_mols[devider[b]:devider[b + 1]])\n",
    "\n",
    "        random.shuffle(batches)\n",
    "        batches = np.concatenate(batches).astype(np.int32)\n",
    "\n",
    "        return batches\n",
    "\n",
    "batch_size = 10\n",
    "train_sampler = SameSizeSampler(structures_groups, train_moles, batch_size)\n",
    "valid_sampler = SameSizeSampler(structures_groups, valid_moles, batch_size,\n",
    "                                use_remainder=True)\n",
    "test_sampler = SameSizeSampler(structures_groups, test_moles, batch_size,\n",
    "                               use_remainder=True)"
   ]
  },
  {
   "cell_type": "markdown",
   "metadata": {},
   "source": [
    "## Make iterators, oprimizer\n",
    "Iterators for data feeding is made as below."
   ]
  },
  {
   "cell_type": "code",
   "execution_count": 27,
   "metadata": {},
   "outputs": [],
   "source": [
    "train_iter = chainer.iterators.SerialIterator(\n",
    "    train_dataset, batch_size, order_sampler=train_sampler)\n",
    "\n",
    "valid_iter = chainer.iterators.SerialIterator(\n",
    "    valid_dataset, batch_size, repeat=False, order_sampler=valid_sampler)\n",
    "\n",
    "test_iter = chainer.iterators.SerialIterator(\n",
    "    test_dataset, batch_size, repeat=False, order_sampler=test_sampler)"
   ]
  },
  {
   "cell_type": "markdown",
   "metadata": {},
   "source": [
    "## Make optimizer\n",
    "Adam is used as an optimizer."
   ]
  },
  {
   "cell_type": "code",
   "execution_count": 28,
   "metadata": {},
   "outputs": [
    {
     "data": {
      "text/plain": [
       "<chainer.optimizers.adam.Adam at 0x1e3da44c888>"
      ]
     },
     "execution_count": 28,
     "metadata": {},
     "output_type": "execute_result"
    }
   ],
   "source": [
    "from chainer import optimizers\n",
    "optimizer = optimizers.Adam(alpha=1e-3)\n",
    "optimizer.setup(model)"
   ]
  },
  {
   "cell_type": "markdown",
   "metadata": {},
   "source": [
    "## Make updator\n",
    "Since the model receives input arrays separately, I implement an original converter.\n",
    "`input_array` and `dists` are exstracted from `Graph` object and `pair_index` and `targets` are exstracted from `targets` object.\n",
    "`targets` is added only for training.\n",
    "When this converter is used for evaluation, `targets` is not added."
   ]
  },
  {
   "cell_type": "code",
   "execution_count": 29,
   "metadata": {},
   "outputs": [],
   "source": [
    "from chainer import training\n",
    "from chainer.dataset import to_device\n",
    "\n",
    "def coupling_converter(batch, device):\n",
    "\n",
    "    list_array = list()\n",
    "    list_dists = list()\n",
    "    list_targets = list()\n",
    "    list_pairs_index = list()\n",
    "\n",
    "    with_target = 'fc' in batch[0]['targets'].columns\n",
    "\n",
    "    for i, d in enumerate(batch):\n",
    "        list_array.append(d['graphs'].input_array)\n",
    "        list_dists.append(d['graphs'].dists)\n",
    "        if with_target:\n",
    "            list_targets.append(\n",
    "                d['targets'][['fc', 'sd', 'pso', 'dso']].values.astype(np.float32))\n",
    "\n",
    "        sample_index = np.full((len(d['targets']), 1), i)\n",
    "        atom_index = d['targets'][['atom_index_0', 'atom_index_1']].values\n",
    "\n",
    "        list_pairs_index.append(np.concatenate([sample_index, atom_index], axis=1))\n",
    "\n",
    "    input_array = to_device(device, np.stack(list_array))\n",
    "    dists = to_device(device, np.stack(list_dists))\n",
    "    pairs_index = np.concatenate(list_pairs_index)\n",
    "\n",
    "    array = {'input_array': input_array, 'dists': dists, 'pairs_index': pairs_index}\n",
    "\n",
    "    if with_target:\n",
    "        array['targets'] = to_device(device, np.concatenate(list_targets))\n",
    "\n",
    "    return array\n",
    "\n",
    "updater = training.StandardUpdater(train_iter, optimizer,\n",
    "                                   converter=coupling_converter, device=0)\n",
    "trainer = training.Trainer(updater, (10, 'epoch'), out=\"result\")"
   ]
  },
  {
   "cell_type": "markdown",
   "metadata": {},
   "source": [
    "# Training extensions\n",
    "## Evaluator\n",
    "I implemented an Evaluator which measure validation score during training.\n",
    "The prediction for test data is also calculated in this evaluator and the submision file is generated."
   ]
  },
  {
   "cell_type": "code",
   "execution_count": 30,
   "metadata": {},
   "outputs": [],
   "source": [
    "from chainer.training.extensions import Evaluator\n",
    "from chainer import cuda\n",
    "\n",
    "class TypeWiseEvaluator(Evaluator):\n",
    "\n",
    "    def __init__(self, iterator, target, converter, device, name,\n",
    "                 is_validate=False, is_submit=False):\n",
    "\n",
    "        super(TypeWiseEvaluator, self).__init__(\n",
    "            iterator, target, converter=converter, device=device)\n",
    "\n",
    "        self.is_validate = is_validate\n",
    "        self.is_submit = is_submit\n",
    "        self.name = name\n",
    "\n",
    "    def calc_score(self, df_truth, pred):\n",
    "\n",
    "        target_types = list(set(df_truth['type']))\n",
    "\n",
    "        diff = df_truth['scalar_coupling_constant'] - pred\n",
    "\n",
    "        scores = 0\n",
    "        metrics = {}\n",
    "\n",
    "        for target_type in target_types:\n",
    "\n",
    "            target_pair = df_truth['type'] == target_type\n",
    "            score_exp = np.mean(np.abs(diff[target_pair]))\n",
    "            scores += np.log(score_exp)\n",
    "\n",
    "            metrics[target_type] = scores\n",
    "\n",
    "        metrics['ALL_LogMAE'] = scores / len(target_types)\n",
    "\n",
    "        observation = {}\n",
    "        with reporter.report_scope(observation):\n",
    "            reporter.report(metrics, self._targets['main'])\n",
    "\n",
    "        return observation\n",
    "\n",
    "    def evaluate(self):\n",
    "        iterator = self._iterators['main']\n",
    "        eval_func = self._targets['main']\n",
    "\n",
    "        iterator.reset()\n",
    "        it = iterator\n",
    "\n",
    "        y_total = []\n",
    "        t_total = []\n",
    "\n",
    "        for batch in it:\n",
    "            in_arrays = self.converter(batch, self.device)\n",
    "            with chainer.no_backprop_mode(), chainer.using_config('train', False):\n",
    "                y = eval_func.predict(**in_arrays)\n",
    "\n",
    "            y_data = cuda.to_cpu(y.data)\n",
    "            y_total.append(y_data)\n",
    "            t_total.extend([d['targets'] for d in batch])\n",
    "\n",
    "        df_truth = pd.concat(t_total, axis=0)\n",
    "        y_pred = np.sum(np.concatenate(y_total), axis=1)\n",
    "\n",
    "        if self.is_submit:\n",
    "            submit = pd.DataFrame()\n",
    "            submit['id'] = df_truth['id']\n",
    "            submit['scalar_coupling_constant'] = y_pred\n",
    "            submit.drop_duplicates(subset='id', inplace=True)\n",
    "            submit.sort_values('id', inplace=True)\n",
    "            submit.to_csv('kernel_schnet.csv', index=False)\n",
    "\n",
    "        if self.is_validate:\n",
    "            return self.calc_score(df_truth, y_pred)\n",
    "\n",
    "        return {}\n",
    "\n",
    "trainer.extend(\n",
    "    TypeWiseEvaluator(iterator=valid_iter, target=model, converter=coupling_converter, \n",
    "                      name='valid', device=0, is_validate=True))\n",
    "trainer.extend(\n",
    "    TypeWiseEvaluator(iterator=test_iter, target=model, converter=coupling_converter,\n",
    "                      name='test', device=0, is_submit=True))"
   ]
  },
  {
   "cell_type": "markdown",
   "metadata": {},
   "source": [
    "## Other extensions\n",
    "ExponentialShift is set as a learning rate scheduler.\n",
    "An extension which turn off training mode is also set to deactivate normalizatoin from second epoch.\n",
    "\n",
    "Log options are set to report the metrics.\n",
    "This helps us to analyze the result of training."
   ]
  },
  {
   "cell_type": "code",
   "execution_count": 31,
   "metadata": {},
   "outputs": [],
   "source": [
    "trainer.extend(training.extensions.ExponentialShift('alpha', 0.99999))\n",
    "\n",
    "from chainer.training import make_extension\n",
    "\n",
    "def stop_train_mode(trigger):\n",
    "    @make_extension(trigger=trigger)\n",
    "    def _stop_train_mode(_):\n",
    "        chainer.config.train = False\n",
    "    return _stop_train_mode\n",
    "\n",
    "trainer.extend(stop_train_mode(trigger=(1, 'epoch')))\n",
    "\n",
    "trainer.extend(\n",
    "    training.extensions.observe_value(\n",
    "        'alpha', lambda tr: tr.updater.get_optimizer('main').alpha))\n",
    "\n",
    "trainer.extend(training.extensions.LogReport())\n",
    "trainer.extend(training.extensions.PrintReport(\n",
    "    ['epoch', 'elapsed_time', 'main/loss', 'valid/main/ALL_LogMAE', 'alpha']))"
   ]
  },
  {
   "cell_type": "markdown",
   "metadata": {},
   "source": [
    "# Training\n",
    "## Run\n",
    "I tuned number of epochs to prevent timeout.\n",
    "SchNet tends to be underfitting, longer training makes the model better basically."
   ]
  },
  {
   "cell_type": "code",
   "execution_count": 32,
   "metadata": {},
   "outputs": [
    {
     "name": "stdout",
     "output_type": "stream",
     "text": [
      "epoch       elapsed_time  main/loss   valid/main/ALL_LogMAE  alpha     \n",
      "1           481.831       0.710501    1.70115                0.000926473  \n",
      "2           956.563       0.619592    -0.279116              0.000858344  \n",
      "3           1434.22       0.235092    -0.505205              0.000795224  \n",
      "4           1907.42       0.190596    -0.762303              0.000736746  \n",
      "5           2380.99       0.165238    -0.651423              0.000682569  \n",
      "6           2853.58       0.148538    -0.903164              0.000632375  \n",
      "7           3334.51       0.136571    -0.998401              0.000585873  \n",
      "8           3808.57       0.126366    -0.951972              0.00054279  \n",
      "9           4284.68       0.118955    -1.12775               0.000502875  \n",
      "10          4763.34       0.112453    -1.13857               0.000465896  \n"
     ]
    }
   ],
   "source": [
    "chainer.config.train = True\n",
    "trainer.run()"
   ]
  },
  {
   "cell_type": "markdown",
   "metadata": {},
   "source": [
    "## Check output"
   ]
  },
  {
   "cell_type": "code",
   "execution_count": 33,
   "metadata": {},
   "outputs": [
    {
     "data": {
      "text/html": [
       "<div>\n",
       "<style scoped>\n",
       "    .dataframe tbody tr th:only-of-type {\n",
       "        vertical-align: middle;\n",
       "    }\n",
       "\n",
       "    .dataframe tbody tr th {\n",
       "        vertical-align: top;\n",
       "    }\n",
       "\n",
       "    .dataframe thead th {\n",
       "        text-align: right;\n",
       "    }\n",
       "</style>\n",
       "<table border=\"1\" class=\"dataframe\">\n",
       "  <thead>\n",
       "    <tr style=\"text-align: right;\">\n",
       "      <th></th>\n",
       "      <th>id</th>\n",
       "      <th>scalar_coupling_constant</th>\n",
       "    </tr>\n",
       "  </thead>\n",
       "  <tbody>\n",
       "    <tr>\n",
       "      <th>0</th>\n",
       "      <td>4659076</td>\n",
       "      <td>38.916847</td>\n",
       "    </tr>\n",
       "    <tr>\n",
       "      <th>1</th>\n",
       "      <td>4659077</td>\n",
       "      <td>183.935120</td>\n",
       "    </tr>\n",
       "    <tr>\n",
       "      <th>2</th>\n",
       "      <td>4659078</td>\n",
       "      <td>5.173396</td>\n",
       "    </tr>\n",
       "    <tr>\n",
       "      <th>3</th>\n",
       "      <td>4659079</td>\n",
       "      <td>183.935120</td>\n",
       "    </tr>\n",
       "    <tr>\n",
       "      <th>4</th>\n",
       "      <td>4659080</td>\n",
       "      <td>38.916847</td>\n",
       "    </tr>\n",
       "  </tbody>\n",
       "</table>\n",
       "</div>"
      ],
      "text/plain": [
       "        id  scalar_coupling_constant\n",
       "0  4659076                 38.916847\n",
       "1  4659077                183.935120\n",
       "2  4659078                  5.173396\n",
       "3  4659079                183.935120\n",
       "4  4659080                 38.916847"
      ]
     },
     "metadata": {},
     "output_type": "display_data"
    },
    {
     "name": "stdout",
     "output_type": "stream",
     "text": [
      "shape: (2505190, 2)\n"
     ]
    }
   ],
   "source": [
    "submit = pd.read_csv('kernel_schnet.csv')\n",
    "display(submit.head())\n",
    "print('shape: {}'.format(submit.shape))"
   ]
  },
  {
   "cell_type": "code",
   "execution_count": 34,
   "metadata": {},
   "outputs": [],
   "source": [
    "from chainer import serializers\n",
    "serializers.save_npz('my.state', trainer)"
   ]
  },
  {
   "cell_type": "code",
   "execution_count": null,
   "metadata": {},
   "outputs": [],
   "source": [
    "serializers.save_npz('my.updater', updater)"
   ]
  },
  {
   "cell_type": "code",
   "execution_count": null,
   "metadata": {},
   "outputs": [],
   "source": []
  }
 ],
 "metadata": {
  "interpreter": {
   "hash": "3dde0c65542655eec3839f89aa949fc0cdc76a49f116aad3e68a567d9d3c77ac"
  },
  "kernelspec": {
   "display_name": "Python 3 (ipykernel)",
   "language": "python",
   "name": "python3"
  },
  "language_info": {
   "codemirror_mode": {
    "name": "ipython",
    "version": 3
   },
   "file_extension": ".py",
   "mimetype": "text/x-python",
   "name": "python",
   "nbconvert_exporter": "python",
   "pygments_lexer": "ipython3",
   "version": "3.9.7"
  }
 },
 "nbformat": 4,
 "nbformat_minor": 1
}

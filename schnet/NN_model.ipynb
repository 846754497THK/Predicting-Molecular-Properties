{
  "nbformat": 4,
  "nbformat_minor": 0,
  "metadata": {
    "accelerator": "GPU",
    "colab": {
      "name": "NN_model.ipynb",
      "version": "0.3.2",
      "provenance": [],
      "collapsed_sections": [],
      "machine_shape": "hm"
    },
    "hide_input": false,
    "kernelspec": {
      "display_name": "Python 3",
      "language": "python",
      "name": "python3"
    },
    "language_info": {
      "codemirror_mode": {
        "name": "ipython",
        "version": 3
      },
      "file_extension": ".py",
      "mimetype": "text/x-python",
      "name": "python",
      "nbconvert_exporter": "python",
      "pygments_lexer": "ipython3",
      "version": "3.7.3"
    },
    "toc": {
      "base_numbering": 1,
      "nav_menu": {},
      "number_sections": true,
      "sideBar": true,
      "skip_h1_title": false,
      "title_cell": "Table of Contents",
      "title_sidebar": "Contents",
      "toc_cell": false,
      "toc_position": {},
      "toc_section_display": true,
      "toc_window_display": false
    },
    "varInspector": {
      "cols": {
        "lenName": 16,
        "lenType": 16,
        "lenVar": 40
      },
      "kernels_config": {
        "python": {
          "delete_cmd_postfix": "",
          "delete_cmd_prefix": "del ",
          "library": "var_list.py",
          "varRefreshCmd": "print(var_dic_list())"
        },
        "r": {
          "delete_cmd_postfix": ") ",
          "delete_cmd_prefix": "rm(",
          "library": "var_list.r",
          "varRefreshCmd": "cat(var_dic_list()) "
        }
      },
      "types_to_exclude": [
        "module",
        "function",
        "builtin_function_or_method",
        "instance",
        "_Feature"
      ],
      "window_display": false
    }
  },
  "cells": [
    {
      "cell_type": "code",
      "metadata": {
        "colab_type": "code",
        "id": "UyhHgRX8B2Yv",
        "outputId": "2f98111c-4716-4c79-863a-633973d6ec0b",
        "colab": {
          "base_uri": "https://localhost:8080/",
          "height": 34
        }
      },
      "source": [
        "from google.colab import drive\n",
        "drive.mount('/content/drive')"
      ],
      "execution_count": 0,
      "outputs": [
        {
          "output_type": "stream",
          "text": [
            "Drive already mounted at /content/drive; to attempt to forcibly remount, call drive.mount(\"/content/drive\", force_remount=True).\n"
          ],
          "name": "stdout"
        }
      ]
    },
    {
      "cell_type": "markdown",
      "metadata": {
        "_cell_guid": "b1076dfc-b9ad-4769-8c92-a6c4dae69d19",
        "_uuid": "8f2839f25d086af736a60e9eeb907d3b93b6e0e5",
        "colab_type": "text",
        "id": "WdDsIpsVBAHC"
      },
      "source": [
        "\n",
        "**Code based on**\n",
        "\n",
        "- https://www.kaggle.com/todnewman/keras-neural-net-for-champs\n",
        "- https://www.kaggle.com/criskiev/distance-is-all-you-need-lb-1-481"
      ]
    },
    {
      "cell_type": "code",
      "metadata": {
        "colab_type": "code",
        "id": "HahK3FtUBAHD",
        "outputId": "c1cd9c31-b109-416b-eed4-8bf66607fc23",
        "colab": {
          "base_uri": "https://localhost:8080/",
          "height": 34
        }
      },
      "source": [
        "import warnings\n",
        "warnings.filterwarnings(\"ignore\")\n",
        "warnings.filterwarnings(action=\"ignore\",category=DeprecationWarning)\n",
        "warnings.filterwarnings(action=\"ignore\",category=FutureWarning)\n",
        "import numpy as np # linear algebra\n",
        "import pandas as pd # data processing, CSV file I/O (e.g. pd.read_csv)\n",
        "import matplotlib.pyplot as plt\n",
        "import tensorflow as tf\n",
        "import os\n",
        "import math\n",
        "import gc\n",
        "import copy\n",
        "from sklearn.model_selection import train_test_split\n",
        "from sklearn.preprocessing import StandardScaler, MinMaxScaler\n",
        "\n",
        "\n",
        "from keras.layers import Dense, Input, Activation, Flatten\n",
        "from keras.layers import BatchNormalization,Add,Dropout\n",
        "from keras.optimizers import Adam\n",
        "from keras.models import Model, load_model\n",
        "from keras import callbacks\n",
        "from keras import backend as K\n",
        "\n"
      ],
      "execution_count": 0,
      "outputs": [
        {
          "output_type": "stream",
          "text": [
            "Using TensorFlow backend.\n"
          ],
          "name": "stderr"
        }
      ]
    },
    {
      "cell_type": "code",
      "metadata": {
        "colab_type": "code",
        "id": "mxSIka7GBAHJ",
        "colab": {}
      },
      "source": [
        "path = \"/content/drive/My Drive/work/Predicing_Molecular_Properties/Data/tmp\"\n",
        "# use atomic numbers to recode atomic names"
      ],
      "execution_count": 0,
      "outputs": []
    },
    {
      "cell_type": "code",
      "metadata": {
        "colab_type": "code",
        "id": "jVnAAk5sBkWy",
        "outputId": "9f5df448-63e2-4262-f090-092679cda8df",
        "colab": {
          "base_uri": "https://localhost:8080/",
          "height": 68
        }
      },
      "source": [
        "!ls '{path}'"
      ],
      "execution_count": 0,
      "outputs": [
        {
          "output_type": "stream",
          "text": [
            "1_1JHC\t  2_2JHH  5_2JHC  8_3JHN     sub.csv\t     test_NN_04.ipynb\n",
            "1_1JHC_0  3_1JHN  6_3JHH  final.csv  sub_tmp_04.csv  test_NN_58.ipynb\n",
            "1_1JHC_1  4_2JHN  7_3JHC  NN.ipynb   sub_tmp.csv     wrt\n"
          ],
          "name": "stdout"
        }
      ]
    },
    {
      "cell_type": "code",
      "metadata": {
        "colab_type": "code",
        "id": "thml5Mj1BAHM",
        "colab": {}
      },
      "source": [
        "def create_nn_model(input_shape):\n",
        "    inp = Input(shape=(input_shape,))\n",
        "    x = Dense(2048, activation=\"relu\")(inp)\n",
        "    x = BatchNormalization()(x)\n",
        "    #x = Dropout(0.4)(x)\n",
        "    x = Dense(1024, activation=\"relu\")(x)\n",
        "    x = BatchNormalization()(x)\n",
        "    x = Dense(512, activation=\"relu\")(x)\n",
        "    x = BatchNormalization()(x)\n",
        "    out = Dense(1, activation=\"linear\")(x)  \n",
        "    model = Model(inputs=inp, outputs=[out])\n",
        "    return model"
      ],
      "execution_count": 0,
      "outputs": []
    },
    {
      "cell_type": "code",
      "metadata": {
        "colab_type": "code",
        "id": "aLl8GcLsBAHO",
        "colab": {}
      },
      "source": [
        "def plot_history(history, label):\n",
        "    plt.plot(history.history['loss'])\n",
        "    plt.plot(history.history['val_loss'])\n",
        "    plt.title('Loss for %s' % label)\n",
        "    plt.ylabel('Loss')\n",
        "    plt.xlabel('Epoch')\n",
        "    _= plt.legend(['Train','Validation'], loc='upper left')\n",
        "    plt.show()"
      ],
      "execution_count": 0,
      "outputs": []
    },
    {
      "cell_type": "code",
      "metadata": {
        "colab_type": "code",
        "id": "cZpAwrx0BAHQ",
        "colab": {}
      },
      "source": [
        "# Set up GPU preferences\n",
        "config = tf.ConfigProto( device_count = {'GPU': 1 , 'CPU': 2} ) \n",
        "config.gpu_options.allow_growth = True\n",
        "config.gpu_options.per_process_gpu_memory_fraction = 0.6\n",
        "sess = tf.Session(config=config) \n",
        "K.set_session(sess)"
      ],
      "execution_count": 0,
      "outputs": []
    },
    {
      "cell_type": "code",
      "metadata": {
        "ExecuteTime": {
          "end_time": "2019-08-22T15:45:47.077945Z",
          "start_time": "2019-08-22T15:45:47.074734Z"
        },
        "colab_type": "code",
        "id": "tdvX8a4GBAHS",
        "colab": {}
      },
      "source": [
        "mol_types = {\n",
        "             0: '1_1JHC_0',\n",
        "             1: '1_1JHC_1',\n",
        "             2: '2_2JHH',\n",
        "             3: '3_1JHN',\n",
        "             4: '4_2JHN',\n",
        "             5: '5_2JHC',\n",
        "             6: '6_3JHH',\n",
        "             7: '7_3JHC',\n",
        "             8: '8_3JHN', \n",
        "            }"
      ],
      "execution_count": 0,
      "outputs": []
    },
    {
      "cell_type": "code",
      "metadata": {
        "colab_type": "code",
        "id": "-We1A7gaN7Ad",
        "colab": {}
      },
      "source": [
        "sub = pd.read_csv(f'{path}/sub_tmp.csv', low_memory=False)"
      ],
      "execution_count": 0,
      "outputs": []
    },
    {
      "cell_type": "code",
      "metadata": {
        "colab_type": "code",
        "id": "O1ZEiT-eBAHT",
        "outputId": "9813a252-2ce7-45b6-85c9-ea48551cc54b",
        "colab": {
          "base_uri": "https://localhost:8080/",
          "height": 1000
        }
      },
      "source": [
        "from datetime import datetime\n",
        "\n",
        "cv_score = []\n",
        "cv_score_total = 0\n",
        "epoch_n = 1000\n",
        "verbose = 0\n",
        "batch_size = 512\n",
        "\n",
        "# Set to True if we want to train from scratch.  False will reuse saved models as a starting point.\n",
        "retrain = True\n",
        "\n",
        "start_time = datetime.now()\n",
        "\n",
        "\n",
        "print(\"EPOCHS: \", epoch_n)\n",
        "print(\"BATCH SIZE: \", batch_size, '\\n')\n",
        "\n",
        "\n",
        "# Loop through each molecule type\n",
        "for idx in mol_types:\n",
        "    mol_type = mol_types[idx]\n",
        "    model_name_wrt = (f'{path}/wrt/molecule_model_%s.hdf5' % mol_type)\n",
        "\n",
        "#     model_name_wrt = ('/kaggle/working/molecule_model_%s.hdf5' % mol_type)\n",
        "\n",
        "    print('Training %s' % mol_type, 'out of', mol_types, '\\n\\n')\n",
        "    \n",
        "\n",
        "    df_train_ = pd.read_csv(f'{path}/{mol_type}/x_train.csv', index_col=0, low_memory=False)\n",
        "    df_test_ = pd.read_csv(f'{path}/{mol_type}/x_test.csv', index_col=0, low_memory=False)\n",
        "    y_train = pd.read_pickle(f'{path}/{mol_type}/y_train.csv')\n",
        "    test_prediction = np.zeros(len(df_test_))\n",
        "\n",
        "    df_train_  = df_train_.fillna(0)\n",
        "    df_test_  = df_test_.fillna(0)\n",
        "\n",
        "    # Standard Scaler from sklearn does seem to work better here than other Scalers\n",
        "    input_data = StandardScaler().fit_transform(\n",
        "        pd.concat([df_train_, df_test_]))\n",
        "\n",
        "    \n",
        "    # input_data=StandardScaler().fit_transform(df_train_.loc[:,input_features])\n",
        "    target_data = y_train.values\n",
        "\n",
        "    # Simple split to provide us a validation set to do our CV checks with\n",
        "    train_index, cv_index = train_test_split(\n",
        "        np.arange(len(df_train_)), random_state=111, test_size=0.1)\n",
        "    # Split all our input and targets by train and cv indexes\n",
        "    train_target = target_data[train_index]\n",
        "    cv_target = target_data[cv_index]\n",
        "    train_input = input_data[train_index]\n",
        "#     train_input = np.reshape(train_input, (-1, train_input.shape[1], 1))\n",
        "    cv_input = input_data[cv_index]\n",
        "#     cv_input = np.reshape(cv_input, (-1, cv_input.shape[1], 1))\n",
        "    test_input = input_data[len(df_train_):, :]\n",
        "#     test_input = np.reshape(test_input, (-1, test_input.shape[1], 1))\n",
        "\n",
        "    print('\\n>> Train_input')\n",
        "    print(train_input.shape)\n",
        "    print('>> Test_input')\n",
        "    print(test_input.shape)\n",
        "\n",
        "#     break\n",
        "\n",
        "    # Build the Neural Net\n",
        "    nn_model = create_nn_model(train_input.shape[1])\n",
        "\n",
        "    # If retrain==False, then we load a previous saved model as a starting point.\n",
        "    if not retrain:\n",
        "        nn_model = load_model(model_name_rd)\n",
        "\n",
        "    nn_model.compile(loss='mae', optimizer=Adam())  # , metrics=[auc])\n",
        "\n",
        "    # Callback for Early Stopping... May want to raise the min_delta for small numbers of epochs\n",
        "    es = callbacks.EarlyStopping(monitor='val_loss', min_delta=0.0001,\n",
        "                                 patience=50, verbose=1, mode='auto', restore_best_weights=True)\n",
        "    # Callback for Reducing the Learning Rate... when the monitor levels out for 'patience' epochs, then the LR is reduced\n",
        "    rlr = callbacks.ReduceLROnPlateau(\n",
        "        monitor='val_loss', factor=0.1, patience=30, min_lr=1e-6, mode='auto', verbose=1)\n",
        "    # Save the best value of the model for future use\n",
        "    sv_mod = callbacks.ModelCheckpoint(\n",
        "        model_name_wrt, monitor='val_loss', save_best_only=True, period=1)\n",
        "    history = nn_model.fit(train_input, [train_target],\n",
        "                           validation_data=(cv_input, [cv_target]),\n",
        "                           callbacks=[es, rlr, sv_mod], epochs=epoch_n, batch_size=batch_size, verbose=verbose)\n",
        "\n",
        "    cv_predict = nn_model.predict(cv_input)\n",
        "    plot_history(history, mol_type)\n",
        "    accuracy = np.mean(np.abs(cv_target-cv_predict[:, 0]))\n",
        "    print(np.log(accuracy))\n",
        "    cv_score.append(np.log(accuracy))\n",
        "    cv_score_total += np.log(accuracy)\n",
        "\n",
        "    # Predict on the test data set using our trained model\n",
        "    test_predict = nn_model.predict(test_input)\n",
        "\n",
        "    # for each molecule type we'll grab the predicted values\n",
        "    sub.loc[sub.typei == idx, 'scalar_coupling_constant'] = test_predict\n",
        "    print('save tmp_sub')\n",
        "    sub.to_csv(f'{path}/sub_tmp.csv', index=False)\n",
        "    K.clear_session()\n",
        "    gc.collect()\n",
        "\n",
        "cv_score_total /= len(mol_types)"
      ],
      "execution_count": 0,
      "outputs": [
        {
          "output_type": "stream",
          "text": [
            "EPOCHS:  1000\n",
            "BATCH SIZE:  512 \n",
            "\n",
            "Training 7_3JHC out of {7: '7_3JHC', 8: '8_3JHN'} \n",
            "\n",
            "\n"
          ],
          "name": "stdout"
        },
        {
          "output_type": "stream",
          "text": [
            "WARNING: Logging before flag parsing goes to stderr.\n",
            "W0824 16:11:19.390657 140598692980608 deprecation_wrapper.py:119] From /usr/local/lib/python3.6/dist-packages/keras/backend/tensorflow_backend.py:74: The name tf.get_default_graph is deprecated. Please use tf.compat.v1.get_default_graph instead.\n",
            "\n",
            "W0824 16:11:19.392358 140598692980608 deprecation_wrapper.py:119] From /usr/local/lib/python3.6/dist-packages/keras/backend/tensorflow_backend.py:517: The name tf.placeholder is deprecated. Please use tf.compat.v1.placeholder instead.\n",
            "\n",
            "W0824 16:11:19.395854 140598692980608 deprecation_wrapper.py:119] From /usr/local/lib/python3.6/dist-packages/keras/backend/tensorflow_backend.py:4138: The name tf.random_uniform is deprecated. Please use tf.random.uniform instead.\n",
            "\n",
            "W0824 16:11:19.480382 140598692980608 deprecation_wrapper.py:119] From /usr/local/lib/python3.6/dist-packages/keras/backend/tensorflow_backend.py:133: The name tf.placeholder_with_default is deprecated. Please use tf.compat.v1.placeholder_with_default instead.\n",
            "\n"
          ],
          "name": "stderr"
        },
        {
          "output_type": "stream",
          "text": [
            "\n",
            ">> Train_input\n",
            "(1359341, 119)\n",
            ">> Test_input\n",
            "(811999, 119)\n"
          ],
          "name": "stdout"
        },
        {
          "output_type": "stream",
          "text": [
            "W0824 16:11:19.700680 140598692980608 deprecation_wrapper.py:119] From /usr/local/lib/python3.6/dist-packages/keras/optimizers.py:790: The name tf.train.Optimizer is deprecated. Please use tf.compat.v1.train.Optimizer instead.\n",
            "\n",
            "W0824 16:11:20.139883 140598692980608 deprecation_wrapper.py:119] From /usr/local/lib/python3.6/dist-packages/keras/backend/tensorflow_backend.py:986: The name tf.assign_add is deprecated. Please use tf.compat.v1.assign_add instead.\n",
            "\n"
          ],
          "name": "stderr"
        },
        {
          "output_type": "stream",
          "text": [
            "\n",
            "Epoch 00195: ReduceLROnPlateau reducing learning rate to 0.00010000000474974513.\n",
            "\n",
            "Epoch 00245: ReduceLROnPlateau reducing learning rate to 1.0000000474974514e-05.\n",
            "\n",
            "Epoch 00281: ReduceLROnPlateau reducing learning rate to 1.0000000656873453e-06.\n",
            "\n",
            "Epoch 00313: ReduceLROnPlateau reducing learning rate to 1e-06.\n",
            "Restoring model weights from the end of the best epoch\n",
            "Epoch 00333: early stopping\n"
          ],
          "name": "stdout"
        },
        {
          "output_type": "display_data",
          "data": {
            "image/png": "[encoded data removed]",
            "text/plain": [
              "<Figure size 432x288 with 1 Axes>"
            ]
          },
          "metadata": {
            "tags": []
          }
        },
        {
          "output_type": "stream",
          "text": [
            "-1.6990124\n",
            "save tmp_sub\n",
            "Training 8_3JHN out of {7: '7_3JHC', 8: '8_3JHN'} \n",
            "\n",
            "\n",
            "\n",
            ">> Train_input\n",
            "(149773, 67)\n",
            ">> Test_input\n",
            "(90616, 67)\n",
            "\n",
            "Epoch 00257: ReduceLROnPlateau reducing learning rate to 0.00010000000474974513.\n",
            "\n",
            "Epoch 00342: ReduceLROnPlateau reducing learning rate to 1.0000000474974514e-05.\n",
            "\n",
            "Epoch 00409: ReduceLROnPlateau reducing learning rate to 1.0000000656873453e-06.\n",
            "Restoring model weights from the end of the best epoch\n",
            "Epoch 00429: early stopping\n"
          ],
          "name": "stdout"
        },
        {
          "output_type": "display_data",
          "data": {
            "image/png": "[encoded data removed]",
            "text/plain": [
              "<Figure size 432x288 with 1 Axes>"
            ]
          },
          "metadata": {
            "tags": []
          }
        },
        {
          "output_type": "stream",
          "text": [
            "-2.6220498\n",
            "save tmp_sub\n"
          ],
          "name": "stdout"
        }
      ]
    },
    {
      "cell_type": "code",
      "metadata": {
        "colab_type": "code",
        "id": "w0rcYzlYBAHV",
        "outputId": "b31fdd7f-8561-4709-cfea-c6ebdac527cf",
        "colab": {
          "base_uri": "https://localhost:8080/",
          "height": 136
        }
      },
      "source": [
        "print ('Total training time: ', datetime.now() - start_time)\n",
        "\n",
        "i=0\n",
        "for idx in mol_types: \n",
        "    mol_type = mol_types[idx]\n",
        "    print(mol_type,\": cv score is \",cv_score[i])\n",
        "    i+=1\n",
        "print(\"total cv score is\",cv_score_total)"
      ],
      "execution_count": 0,
      "outputs": [
        {
          "output_type": "stream",
          "text": [
            "Total training time:  3:32:20.350573\n",
            "1_1JHC_0 : cv score is  -0.8610439\n",
            "1_1JHC_1 : cv score is  -1.8092055\n",
            "2_2JHH : cv score is  -2.5978758\n",
            "3_1JHN : cv score is  -1.5214456\n",
            "4_2JHN : cv score is  -2.3654904\n",
            "total cv score is -1.8310122609138488\n"
          ],
          "name": "stdout"
        }
      ]
    },
    {
      "cell_type": "code",
      "metadata": {
        "colab_type": "code",
        "id": "L3DMUsR5UL4O",
        "colab": {}
      },
      "source": [
        "final = sub.drop('typei', axis=1)\n",
        "final.to_csv(f'{path}/final.csv', index=False)"
      ],
      "execution_count": 0,
      "outputs": []
    }
  ]
}